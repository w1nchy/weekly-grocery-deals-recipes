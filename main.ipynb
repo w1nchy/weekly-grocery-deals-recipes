{
 "cells": [
  {
   "cell_type": "markdown",
   "source": [
    "## Web scrape hemköp with Selenium"
   ],
   "metadata": {
    "collapsed": false
   }
  },
  {
   "cell_type": "code",
   "execution_count": 2,
   "outputs": [
    {
     "data": {
      "text/plain": "<module 'funcs' from '/Users/gavinnguyen/Documents/NOD Bootcamp/Project - Web scrape_API (End of week 5 start)/funcs.py'>"
     },
     "execution_count": 2,
     "metadata": {},
     "output_type": "execute_result"
    }
   ],
   "source": [
    "import os\n",
    "\n",
    "import pandas as pd\n",
    "import numpy as np\n",
    "import requests\n",
    "import spoonacular as sp\n",
    "\n",
    "import funcs\n",
    "import importlib\n",
    "importlib.reload(funcs)"
   ],
   "metadata": {
    "collapsed": false,
    "ExecuteTime": {
     "end_time": "2023-05-08T15:11:46.207286Z",
     "start_time": "2023-05-08T15:11:45.055410Z"
    }
   }
  },
  {
   "cell_type": "markdown",
   "source": [
    "#### Scrape disabled"
   ],
   "metadata": {
    "collapsed": false
   }
  },
  {
   "cell_type": "code",
   "execution_count": 209,
   "outputs": [
    {
     "name": "stdout",
     "output_type": "stream",
     "text": [
      "Lengths: 298, 298, 298, 298, 298, 298, 298\n"
     ]
    }
   ],
   "source": [
    "# # scraper.py\n",
    "# from scraper import scraper\n",
    "#\n",
    "# # scraper\n",
    "# df = scraper()"
   ],
   "metadata": {
    "collapsed": false,
    "ExecuteTime": {
     "end_time": "2023-05-09T11:43:54.875893Z",
     "start_time": "2023-05-09T11:42:55.110733Z"
    }
   }
  },
  {
   "cell_type": "markdown",
   "source": [
    "#### Saved scrape"
   ],
   "metadata": {
    "collapsed": false
   }
  },
  {
   "cell_type": "code",
   "execution_count": 225,
   "outputs": [],
   "source": [
    "# saved dataframe so we don't have to repeatedly scrape for testing\n",
    "df = pd.read_csv('saved_data_2.csv')\n",
    "df.drop('Unnamed: 0', axis=1, inplace=True)"
   ],
   "metadata": {
    "collapsed": false,
    "ExecuteTime": {
     "end_time": "2023-05-09T12:40:42.858058Z",
     "start_time": "2023-05-09T12:40:42.837680Z"
    }
   }
  },
  {
   "cell_type": "markdown",
   "source": [
    "## Data Cleaning"
   ],
   "metadata": {
    "collapsed": false
   }
  },
  {
   "cell_type": "code",
   "execution_count": 226,
   "outputs": [
    {
     "data": {
      "text/plain": "                                        Name  Price  Original Price   \n0                          Bacon Rökt&skivat  10.00           14.95  \\\n1                        Kyckling Filé Fryst  59.00           69.95   \n2                                Levain Vete  25.00           39.95   \n3           Normalsaltat Smör & Rapsolja 75%  49.00           59.95   \n4                       Druvor Gröna Klass 1  20.00           39.95   \n..                                       ...    ...             ...   \n292  Vegetarisk Bredbar Pastej av Ärtprotein  18.95             NaN   \n293                 Citron Såpa Allrengöring  22.50             NaN   \n294                Krögarpytt Klassisk Fryst  48.95             NaN   \n295           Fiber Formbröd Glutenfri Fryst  36.95             NaN   \n296                     Falu Rågrut Original  13.95             NaN   \n\n    Original compare price Discounted compare price         Brand Weight  \n0            106,79 kr/kg              71,43 kr/kg         GARANT   140g  \n1             77,72 kr/kg              65,55 kr/kg       ELDORADO   900g  \n2             53,27 kr/kg              33,33 kr/kg   SÖDERVIDINGE   750g  \n3             99,92 kr/kg              81,67 kr/kg        BREGOTT   600g  \n4             79,90 kr/kg              40,00 kr/kg            NaN    NaN  \n..                     ...                      ...           ...    ...  \n292           94,75 kr/kg                       NaN   PASTEJKÖKET   200g  \n293            30,00 kr/l                       NaN        GRUMME  750ml  \n294           67,99 kr/kg                       NaN         FELIX   720g  \n295           73,90 kr/kg                       NaN          FRIA   500g  \n296           59,36 kr/kg                       NaN          WASA   235g  \n\n[297 rows x 7 columns]",
      "text/html": "<div>\n<style scoped>\n    .dataframe tbody tr th:only-of-type {\n        vertical-align: middle;\n    }\n\n    .dataframe tbody tr th {\n        vertical-align: top;\n    }\n\n    .dataframe thead th {\n        text-align: right;\n    }\n</style>\n<table border=\"1\" class=\"dataframe\">\n  <thead>\n    <tr style=\"text-align: right;\">\n      <th></th>\n      <th>Name</th>\n      <th>Price</th>\n      <th>Original Price</th>\n      <th>Original compare price</th>\n      <th>Discounted compare price</th>\n      <th>Brand</th>\n      <th>Weight</th>\n    </tr>\n  </thead>\n  <tbody>\n    <tr>\n      <th>0</th>\n      <td>Bacon Rökt&amp;skivat</td>\n      <td>10.00</td>\n      <td>14.95</td>\n      <td>106,79 kr/kg</td>\n      <td>71,43 kr/kg</td>\n      <td>GARANT</td>\n      <td>140g</td>\n    </tr>\n    <tr>\n      <th>1</th>\n      <td>Kyckling Filé Fryst</td>\n      <td>59.00</td>\n      <td>69.95</td>\n      <td>77,72 kr/kg</td>\n      <td>65,55 kr/kg</td>\n      <td>ELDORADO</td>\n      <td>900g</td>\n    </tr>\n    <tr>\n      <th>2</th>\n      <td>Levain Vete</td>\n      <td>25.00</td>\n      <td>39.95</td>\n      <td>53,27 kr/kg</td>\n      <td>33,33 kr/kg</td>\n      <td>SÖDERVIDINGE</td>\n      <td>750g</td>\n    </tr>\n    <tr>\n      <th>3</th>\n      <td>Normalsaltat Smör &amp; Rapsolja 75%</td>\n      <td>49.00</td>\n      <td>59.95</td>\n      <td>99,92 kr/kg</td>\n      <td>81,67 kr/kg</td>\n      <td>BREGOTT</td>\n      <td>600g</td>\n    </tr>\n    <tr>\n      <th>4</th>\n      <td>Druvor Gröna Klass 1</td>\n      <td>20.00</td>\n      <td>39.95</td>\n      <td>79,90 kr/kg</td>\n      <td>40,00 kr/kg</td>\n      <td>NaN</td>\n      <td>NaN</td>\n    </tr>\n    <tr>\n      <th>...</th>\n      <td>...</td>\n      <td>...</td>\n      <td>...</td>\n      <td>...</td>\n      <td>...</td>\n      <td>...</td>\n      <td>...</td>\n    </tr>\n    <tr>\n      <th>292</th>\n      <td>Vegetarisk Bredbar Pastej av Ärtprotein</td>\n      <td>18.95</td>\n      <td>NaN</td>\n      <td>94,75 kr/kg</td>\n      <td>NaN</td>\n      <td>PASTEJKÖKET</td>\n      <td>200g</td>\n    </tr>\n    <tr>\n      <th>293</th>\n      <td>Citron Såpa Allrengöring</td>\n      <td>22.50</td>\n      <td>NaN</td>\n      <td>30,00 kr/l</td>\n      <td>NaN</td>\n      <td>GRUMME</td>\n      <td>750ml</td>\n    </tr>\n    <tr>\n      <th>294</th>\n      <td>Krögarpytt Klassisk Fryst</td>\n      <td>48.95</td>\n      <td>NaN</td>\n      <td>67,99 kr/kg</td>\n      <td>NaN</td>\n      <td>FELIX</td>\n      <td>720g</td>\n    </tr>\n    <tr>\n      <th>295</th>\n      <td>Fiber Formbröd Glutenfri Fryst</td>\n      <td>36.95</td>\n      <td>NaN</td>\n      <td>73,90 kr/kg</td>\n      <td>NaN</td>\n      <td>FRIA</td>\n      <td>500g</td>\n    </tr>\n    <tr>\n      <th>296</th>\n      <td>Falu Rågrut Original</td>\n      <td>13.95</td>\n      <td>NaN</td>\n      <td>59,36 kr/kg</td>\n      <td>NaN</td>\n      <td>WASA</td>\n      <td>235g</td>\n    </tr>\n  </tbody>\n</table>\n<p>297 rows × 7 columns</p>\n</div>"
     },
     "execution_count": 226,
     "metadata": {},
     "output_type": "execute_result"
    }
   ],
   "source": [
    "df"
   ],
   "metadata": {
    "collapsed": false,
    "ExecuteTime": {
     "end_time": "2023-05-09T12:40:45.525094Z",
     "start_time": "2023-05-09T12:40:45.522176Z"
    }
   }
  },
  {
   "cell_type": "code",
   "execution_count": 227,
   "outputs": [
    {
     "ename": "AttributeError",
     "evalue": "Can only use .str accessor with string values!",
     "output_type": "error",
     "traceback": [
      "\u001B[0;31m---------------------------------------------------------------------------\u001B[0m",
      "\u001B[0;31mAttributeError\u001B[0m                            Traceback (most recent call last)",
      "\u001B[0;32m/var/folders/dy/x6z2mb456s9dvq77dv75k9xr0000gn/T/ipykernel_60183/1994783092.py\u001B[0m in \u001B[0;36m<module>\u001B[0;34m\u001B[0m\n\u001B[1;32m      1\u001B[0m \u001B[0mdf\u001B[0m\u001B[0;34m[\u001B[0m\u001B[0;34m'Original compare price'\u001B[0m\u001B[0;34m]\u001B[0m \u001B[0;34m=\u001B[0m \u001B[0mdf\u001B[0m\u001B[0;34m[\u001B[0m\u001B[0;34m'Original compare price'\u001B[0m\u001B[0;34m]\u001B[0m\u001B[0;34m.\u001B[0m\u001B[0mstr\u001B[0m\u001B[0;34m.\u001B[0m\u001B[0mreplace\u001B[0m\u001B[0;34m(\u001B[0m\u001B[0;34m'Jmf pris '\u001B[0m\u001B[0;34m,\u001B[0m \u001B[0;34m''\u001B[0m\u001B[0;34m)\u001B[0m\u001B[0;34m\u001B[0m\u001B[0;34m\u001B[0m\u001B[0m\n\u001B[1;32m      2\u001B[0m \u001B[0mdf\u001B[0m\u001B[0;34m[\u001B[0m\u001B[0;34m'Discounted compare price'\u001B[0m\u001B[0;34m]\u001B[0m \u001B[0;34m=\u001B[0m \u001B[0mdf\u001B[0m\u001B[0;34m[\u001B[0m\u001B[0;34m'Discounted compare price'\u001B[0m\u001B[0;34m]\u001B[0m\u001B[0;34m.\u001B[0m\u001B[0mstr\u001B[0m\u001B[0;34m.\u001B[0m\u001B[0mreplace\u001B[0m\u001B[0;34m(\u001B[0m\u001B[0;34m'Jmf pris '\u001B[0m\u001B[0;34m,\u001B[0m \u001B[0;34m''\u001B[0m\u001B[0;34m)\u001B[0m\u001B[0;34m\u001B[0m\u001B[0;34m\u001B[0m\u001B[0m\n\u001B[0;32m----> 3\u001B[0;31m \u001B[0mdf\u001B[0m\u001B[0;34m[\u001B[0m\u001B[0;34m'Original Price'\u001B[0m\u001B[0;34m]\u001B[0m \u001B[0;34m=\u001B[0m \u001B[0mdf\u001B[0m\u001B[0;34m[\u001B[0m\u001B[0;34m'Original Price'\u001B[0m\u001B[0;34m]\u001B[0m\u001B[0;34m.\u001B[0m\u001B[0mstr\u001B[0m\u001B[0;34m.\u001B[0m\u001B[0mreplace\u001B[0m\u001B[0;34m(\u001B[0m\u001B[0;34m'Ord pris '\u001B[0m\u001B[0;34m,\u001B[0m \u001B[0;34m''\u001B[0m\u001B[0;34m)\u001B[0m\u001B[0;34m\u001B[0m\u001B[0;34m\u001B[0m\u001B[0m\n\u001B[0m",
      "\u001B[0;32m~/opt/anaconda3/lib/python3.9/site-packages/pandas/core/generic.py\u001B[0m in \u001B[0;36m__getattr__\u001B[0;34m(self, name)\u001B[0m\n\u001B[1;32m   5987\u001B[0m         ):\n\u001B[1;32m   5988\u001B[0m             \u001B[0;32mreturn\u001B[0m \u001B[0mself\u001B[0m\u001B[0;34m[\u001B[0m\u001B[0mname\u001B[0m\u001B[0;34m]\u001B[0m\u001B[0;34m\u001B[0m\u001B[0;34m\u001B[0m\u001B[0m\n\u001B[0;32m-> 5989\u001B[0;31m         \u001B[0;32mreturn\u001B[0m \u001B[0mobject\u001B[0m\u001B[0;34m.\u001B[0m\u001B[0m__getattribute__\u001B[0m\u001B[0;34m(\u001B[0m\u001B[0mself\u001B[0m\u001B[0;34m,\u001B[0m \u001B[0mname\u001B[0m\u001B[0;34m)\u001B[0m\u001B[0;34m\u001B[0m\u001B[0;34m\u001B[0m\u001B[0m\n\u001B[0m\u001B[1;32m   5990\u001B[0m \u001B[0;34m\u001B[0m\u001B[0m\n\u001B[1;32m   5991\u001B[0m     \u001B[0;32mdef\u001B[0m \u001B[0m__setattr__\u001B[0m\u001B[0;34m(\u001B[0m\u001B[0mself\u001B[0m\u001B[0;34m,\u001B[0m \u001B[0mname\u001B[0m\u001B[0;34m:\u001B[0m \u001B[0mstr\u001B[0m\u001B[0;34m,\u001B[0m \u001B[0mvalue\u001B[0m\u001B[0;34m)\u001B[0m \u001B[0;34m->\u001B[0m \u001B[0;32mNone\u001B[0m\u001B[0;34m:\u001B[0m\u001B[0;34m\u001B[0m\u001B[0;34m\u001B[0m\u001B[0m\n",
      "\u001B[0;32m~/opt/anaconda3/lib/python3.9/site-packages/pandas/core/accessor.py\u001B[0m in \u001B[0;36m__get__\u001B[0;34m(self, obj, cls)\u001B[0m\n\u001B[1;32m    222\u001B[0m             \u001B[0;31m# we're accessing the attribute of the class, i.e., Dataset.geo\u001B[0m\u001B[0;34m\u001B[0m\u001B[0;34m\u001B[0m\u001B[0m\n\u001B[1;32m    223\u001B[0m             \u001B[0;32mreturn\u001B[0m \u001B[0mself\u001B[0m\u001B[0;34m.\u001B[0m\u001B[0m_accessor\u001B[0m\u001B[0;34m\u001B[0m\u001B[0;34m\u001B[0m\u001B[0m\n\u001B[0;32m--> 224\u001B[0;31m         \u001B[0maccessor_obj\u001B[0m \u001B[0;34m=\u001B[0m \u001B[0mself\u001B[0m\u001B[0;34m.\u001B[0m\u001B[0m_accessor\u001B[0m\u001B[0;34m(\u001B[0m\u001B[0mobj\u001B[0m\u001B[0;34m)\u001B[0m\u001B[0;34m\u001B[0m\u001B[0;34m\u001B[0m\u001B[0m\n\u001B[0m\u001B[1;32m    225\u001B[0m         \u001B[0;31m# Replace the property with the accessor object. Inspired by:\u001B[0m\u001B[0;34m\u001B[0m\u001B[0;34m\u001B[0m\u001B[0m\n\u001B[1;32m    226\u001B[0m         \u001B[0;31m# https://www.pydanny.com/cached-property.html\u001B[0m\u001B[0;34m\u001B[0m\u001B[0;34m\u001B[0m\u001B[0m\n",
      "\u001B[0;32m~/opt/anaconda3/lib/python3.9/site-packages/pandas/core/strings/accessor.py\u001B[0m in \u001B[0;36m__init__\u001B[0;34m(self, data)\u001B[0m\n\u001B[1;32m    179\u001B[0m         \u001B[0;32mfrom\u001B[0m \u001B[0mpandas\u001B[0m\u001B[0;34m.\u001B[0m\u001B[0mcore\u001B[0m\u001B[0;34m.\u001B[0m\u001B[0marrays\u001B[0m\u001B[0;34m.\u001B[0m\u001B[0mstring_\u001B[0m \u001B[0;32mimport\u001B[0m \u001B[0mStringDtype\u001B[0m\u001B[0;34m\u001B[0m\u001B[0;34m\u001B[0m\u001B[0m\n\u001B[1;32m    180\u001B[0m \u001B[0;34m\u001B[0m\u001B[0m\n\u001B[0;32m--> 181\u001B[0;31m         \u001B[0mself\u001B[0m\u001B[0;34m.\u001B[0m\u001B[0m_inferred_dtype\u001B[0m \u001B[0;34m=\u001B[0m \u001B[0mself\u001B[0m\u001B[0;34m.\u001B[0m\u001B[0m_validate\u001B[0m\u001B[0;34m(\u001B[0m\u001B[0mdata\u001B[0m\u001B[0;34m)\u001B[0m\u001B[0;34m\u001B[0m\u001B[0;34m\u001B[0m\u001B[0m\n\u001B[0m\u001B[1;32m    182\u001B[0m         \u001B[0mself\u001B[0m\u001B[0;34m.\u001B[0m\u001B[0m_is_categorical\u001B[0m \u001B[0;34m=\u001B[0m \u001B[0mis_categorical_dtype\u001B[0m\u001B[0;34m(\u001B[0m\u001B[0mdata\u001B[0m\u001B[0;34m.\u001B[0m\u001B[0mdtype\u001B[0m\u001B[0;34m)\u001B[0m\u001B[0;34m\u001B[0m\u001B[0;34m\u001B[0m\u001B[0m\n\u001B[1;32m    183\u001B[0m         \u001B[0mself\u001B[0m\u001B[0;34m.\u001B[0m\u001B[0m_is_string\u001B[0m \u001B[0;34m=\u001B[0m \u001B[0misinstance\u001B[0m\u001B[0;34m(\u001B[0m\u001B[0mdata\u001B[0m\u001B[0;34m.\u001B[0m\u001B[0mdtype\u001B[0m\u001B[0;34m,\u001B[0m \u001B[0mStringDtype\u001B[0m\u001B[0;34m)\u001B[0m\u001B[0;34m\u001B[0m\u001B[0;34m\u001B[0m\u001B[0m\n",
      "\u001B[0;32m~/opt/anaconda3/lib/python3.9/site-packages/pandas/core/strings/accessor.py\u001B[0m in \u001B[0;36m_validate\u001B[0;34m(data)\u001B[0m\n\u001B[1;32m    233\u001B[0m \u001B[0;34m\u001B[0m\u001B[0m\n\u001B[1;32m    234\u001B[0m         \u001B[0;32mif\u001B[0m \u001B[0minferred_dtype\u001B[0m \u001B[0;32mnot\u001B[0m \u001B[0;32min\u001B[0m \u001B[0mallowed_types\u001B[0m\u001B[0;34m:\u001B[0m\u001B[0;34m\u001B[0m\u001B[0;34m\u001B[0m\u001B[0m\n\u001B[0;32m--> 235\u001B[0;31m             \u001B[0;32mraise\u001B[0m \u001B[0mAttributeError\u001B[0m\u001B[0;34m(\u001B[0m\u001B[0;34m\"Can only use .str accessor with string values!\"\u001B[0m\u001B[0;34m)\u001B[0m\u001B[0;34m\u001B[0m\u001B[0;34m\u001B[0m\u001B[0m\n\u001B[0m\u001B[1;32m    236\u001B[0m         \u001B[0;32mreturn\u001B[0m \u001B[0minferred_dtype\u001B[0m\u001B[0;34m\u001B[0m\u001B[0;34m\u001B[0m\u001B[0m\n\u001B[1;32m    237\u001B[0m \u001B[0;34m\u001B[0m\u001B[0m\n",
      "\u001B[0;31mAttributeError\u001B[0m: Can only use .str accessor with string values!"
     ]
    }
   ],
   "source": [
    "df['Original compare price'] = df['Original compare price'].str.replace('Jmf pris ', '')\n",
    "df['Discounted compare price'] = df['Discounted compare price'].str.replace('Jmf pris ', '')\n",
    "df['Original Price'] = df['Original Price'].str.replace('Ord pris ', '')"
   ],
   "metadata": {
    "collapsed": false,
    "ExecuteTime": {
     "end_time": "2023-05-09T12:40:45.956757Z",
     "start_time": "2023-05-09T12:40:45.931932Z"
    }
   }
  },
  {
   "cell_type": "markdown",
   "source": [
    "### Changing dtypes"
   ],
   "metadata": {
    "collapsed": false
   }
  },
  {
   "cell_type": "code",
   "execution_count": 228,
   "outputs": [
    {
     "name": "stdout",
     "output_type": "stream",
     "text": [
      "<class 'pandas.core.frame.DataFrame'>\n",
      "RangeIndex: 297 entries, 0 to 296\n",
      "Data columns (total 7 columns):\n",
      " #   Column                    Non-Null Count  Dtype  \n",
      "---  ------                    --------------  -----  \n",
      " 0   Name                      297 non-null    object \n",
      " 1   Price                     297 non-null    float64\n",
      " 2   Original Price            50 non-null     float64\n",
      " 3   Original compare price    295 non-null    object \n",
      " 4   Discounted compare price  229 non-null    object \n",
      " 5   Brand                     280 non-null    object \n",
      " 6   Weight                    280 non-null    object \n",
      "dtypes: float64(2), object(5)\n",
      "memory usage: 16.4+ KB\n"
     ]
    }
   ],
   "source": [
    "df.info()"
   ],
   "metadata": {
    "collapsed": false,
    "ExecuteTime": {
     "end_time": "2023-05-09T12:40:48.643771Z",
     "start_time": "2023-05-09T12:40:48.639764Z"
    }
   }
  },
  {
   "cell_type": "markdown",
   "source": [
    "#### Changing Price and original price to float after some cleaning"
   ],
   "metadata": {
    "collapsed": false
   }
  },
  {
   "cell_type": "code",
   "execution_count": 229,
   "outputs": [
    {
     "ename": "AttributeError",
     "evalue": "Can only use .str accessor with string values!",
     "output_type": "error",
     "traceback": [
      "\u001B[0;31m---------------------------------------------------------------------------\u001B[0m",
      "\u001B[0;31mAttributeError\u001B[0m                            Traceback (most recent call last)",
      "\u001B[0;32m/var/folders/dy/x6z2mb456s9dvq77dv75k9xr0000gn/T/ipykernel_60183/4294593548.py\u001B[0m in \u001B[0;36m<module>\u001B[0;34m\u001B[0m\n\u001B[1;32m      1\u001B[0m \u001B[0;31m# todo:         FUTURE IMPLEMENTATION: split kr/kg and kr/l into separate columns\u001B[0m\u001B[0;34m\u001B[0m\u001B[0;34m\u001B[0m\u001B[0m\n\u001B[0;32m----> 2\u001B[0;31m \u001B[0mdf\u001B[0m\u001B[0;34m.\u001B[0m\u001B[0mPrice\u001B[0m \u001B[0;34m=\u001B[0m \u001B[0mdf\u001B[0m\u001B[0;34m[\u001B[0m\u001B[0;34m'Price'\u001B[0m\u001B[0;34m]\u001B[0m\u001B[0;34m.\u001B[0m\u001B[0mstr\u001B[0m\u001B[0;34m.\u001B[0m\u001B[0mreplace\u001B[0m\u001B[0;34m(\u001B[0m\u001B[0;34m','\u001B[0m\u001B[0;34m,\u001B[0m \u001B[0;34m'.'\u001B[0m\u001B[0;34m)\u001B[0m\u001B[0;34m\u001B[0m\u001B[0;34m\u001B[0m\u001B[0m\n\u001B[0m\u001B[1;32m      3\u001B[0m \u001B[0mdf\u001B[0m\u001B[0;34m[\u001B[0m\u001B[0;34m'Original Price'\u001B[0m\u001B[0;34m]\u001B[0m \u001B[0;34m=\u001B[0m \u001B[0mdf\u001B[0m\u001B[0;34m[\u001B[0m\u001B[0;34m'Original Price'\u001B[0m\u001B[0;34m]\u001B[0m\u001B[0;34m.\u001B[0m\u001B[0mstr\u001B[0m\u001B[0;34m.\u001B[0m\u001B[0mreplace\u001B[0m\u001B[0;34m(\u001B[0m\u001B[0;34m' kr'\u001B[0m\u001B[0;34m,\u001B[0m \u001B[0;34m''\u001B[0m\u001B[0;34m)\u001B[0m\u001B[0;34m\u001B[0m\u001B[0;34m\u001B[0m\u001B[0m\n\u001B[1;32m      4\u001B[0m \u001B[0mdf\u001B[0m\u001B[0;34m[\u001B[0m\u001B[0;34m'Original Price'\u001B[0m\u001B[0;34m]\u001B[0m \u001B[0;34m=\u001B[0m \u001B[0mdf\u001B[0m\u001B[0;34m[\u001B[0m\u001B[0;34m'Original Price'\u001B[0m\u001B[0;34m]\u001B[0m\u001B[0;34m.\u001B[0m\u001B[0mstr\u001B[0m\u001B[0;34m.\u001B[0m\u001B[0mreplace\u001B[0m\u001B[0;34m(\u001B[0m\u001B[0;34m','\u001B[0m\u001B[0;34m,\u001B[0m \u001B[0;34m'.'\u001B[0m\u001B[0;34m)\u001B[0m\u001B[0;34m\u001B[0m\u001B[0;34m\u001B[0m\u001B[0m\n\u001B[1;32m      5\u001B[0m \u001B[0mdf\u001B[0m\u001B[0;34m[\u001B[0m\u001B[0;34m'Original Price'\u001B[0m\u001B[0;34m]\u001B[0m \u001B[0;34m=\u001B[0m \u001B[0mdf\u001B[0m\u001B[0;34m[\u001B[0m\u001B[0;34m'Original Price'\u001B[0m\u001B[0;34m]\u001B[0m\u001B[0;34m.\u001B[0m\u001B[0mstr\u001B[0m\u001B[0;34m.\u001B[0m\u001B[0mreplace\u001B[0m\u001B[0;34m(\u001B[0m\u001B[0;34m'/kg'\u001B[0m\u001B[0;34m,\u001B[0m \u001B[0;34m''\u001B[0m\u001B[0;34m)\u001B[0m\u001B[0;34m\u001B[0m\u001B[0;34m\u001B[0m\u001B[0m\n",
      "\u001B[0;32m~/opt/anaconda3/lib/python3.9/site-packages/pandas/core/generic.py\u001B[0m in \u001B[0;36m__getattr__\u001B[0;34m(self, name)\u001B[0m\n\u001B[1;32m   5987\u001B[0m         ):\n\u001B[1;32m   5988\u001B[0m             \u001B[0;32mreturn\u001B[0m \u001B[0mself\u001B[0m\u001B[0;34m[\u001B[0m\u001B[0mname\u001B[0m\u001B[0;34m]\u001B[0m\u001B[0;34m\u001B[0m\u001B[0;34m\u001B[0m\u001B[0m\n\u001B[0;32m-> 5989\u001B[0;31m         \u001B[0;32mreturn\u001B[0m \u001B[0mobject\u001B[0m\u001B[0;34m.\u001B[0m\u001B[0m__getattribute__\u001B[0m\u001B[0;34m(\u001B[0m\u001B[0mself\u001B[0m\u001B[0;34m,\u001B[0m \u001B[0mname\u001B[0m\u001B[0;34m)\u001B[0m\u001B[0;34m\u001B[0m\u001B[0;34m\u001B[0m\u001B[0m\n\u001B[0m\u001B[1;32m   5990\u001B[0m \u001B[0;34m\u001B[0m\u001B[0m\n\u001B[1;32m   5991\u001B[0m     \u001B[0;32mdef\u001B[0m \u001B[0m__setattr__\u001B[0m\u001B[0;34m(\u001B[0m\u001B[0mself\u001B[0m\u001B[0;34m,\u001B[0m \u001B[0mname\u001B[0m\u001B[0;34m:\u001B[0m \u001B[0mstr\u001B[0m\u001B[0;34m,\u001B[0m \u001B[0mvalue\u001B[0m\u001B[0;34m)\u001B[0m \u001B[0;34m->\u001B[0m \u001B[0;32mNone\u001B[0m\u001B[0;34m:\u001B[0m\u001B[0;34m\u001B[0m\u001B[0;34m\u001B[0m\u001B[0m\n",
      "\u001B[0;32m~/opt/anaconda3/lib/python3.9/site-packages/pandas/core/accessor.py\u001B[0m in \u001B[0;36m__get__\u001B[0;34m(self, obj, cls)\u001B[0m\n\u001B[1;32m    222\u001B[0m             \u001B[0;31m# we're accessing the attribute of the class, i.e., Dataset.geo\u001B[0m\u001B[0;34m\u001B[0m\u001B[0;34m\u001B[0m\u001B[0m\n\u001B[1;32m    223\u001B[0m             \u001B[0;32mreturn\u001B[0m \u001B[0mself\u001B[0m\u001B[0;34m.\u001B[0m\u001B[0m_accessor\u001B[0m\u001B[0;34m\u001B[0m\u001B[0;34m\u001B[0m\u001B[0m\n\u001B[0;32m--> 224\u001B[0;31m         \u001B[0maccessor_obj\u001B[0m \u001B[0;34m=\u001B[0m \u001B[0mself\u001B[0m\u001B[0;34m.\u001B[0m\u001B[0m_accessor\u001B[0m\u001B[0;34m(\u001B[0m\u001B[0mobj\u001B[0m\u001B[0;34m)\u001B[0m\u001B[0;34m\u001B[0m\u001B[0;34m\u001B[0m\u001B[0m\n\u001B[0m\u001B[1;32m    225\u001B[0m         \u001B[0;31m# Replace the property with the accessor object. Inspired by:\u001B[0m\u001B[0;34m\u001B[0m\u001B[0;34m\u001B[0m\u001B[0m\n\u001B[1;32m    226\u001B[0m         \u001B[0;31m# https://www.pydanny.com/cached-property.html\u001B[0m\u001B[0;34m\u001B[0m\u001B[0;34m\u001B[0m\u001B[0m\n",
      "\u001B[0;32m~/opt/anaconda3/lib/python3.9/site-packages/pandas/core/strings/accessor.py\u001B[0m in \u001B[0;36m__init__\u001B[0;34m(self, data)\u001B[0m\n\u001B[1;32m    179\u001B[0m         \u001B[0;32mfrom\u001B[0m \u001B[0mpandas\u001B[0m\u001B[0;34m.\u001B[0m\u001B[0mcore\u001B[0m\u001B[0;34m.\u001B[0m\u001B[0marrays\u001B[0m\u001B[0;34m.\u001B[0m\u001B[0mstring_\u001B[0m \u001B[0;32mimport\u001B[0m \u001B[0mStringDtype\u001B[0m\u001B[0;34m\u001B[0m\u001B[0;34m\u001B[0m\u001B[0m\n\u001B[1;32m    180\u001B[0m \u001B[0;34m\u001B[0m\u001B[0m\n\u001B[0;32m--> 181\u001B[0;31m         \u001B[0mself\u001B[0m\u001B[0;34m.\u001B[0m\u001B[0m_inferred_dtype\u001B[0m \u001B[0;34m=\u001B[0m \u001B[0mself\u001B[0m\u001B[0;34m.\u001B[0m\u001B[0m_validate\u001B[0m\u001B[0;34m(\u001B[0m\u001B[0mdata\u001B[0m\u001B[0;34m)\u001B[0m\u001B[0;34m\u001B[0m\u001B[0;34m\u001B[0m\u001B[0m\n\u001B[0m\u001B[1;32m    182\u001B[0m         \u001B[0mself\u001B[0m\u001B[0;34m.\u001B[0m\u001B[0m_is_categorical\u001B[0m \u001B[0;34m=\u001B[0m \u001B[0mis_categorical_dtype\u001B[0m\u001B[0;34m(\u001B[0m\u001B[0mdata\u001B[0m\u001B[0;34m.\u001B[0m\u001B[0mdtype\u001B[0m\u001B[0;34m)\u001B[0m\u001B[0;34m\u001B[0m\u001B[0;34m\u001B[0m\u001B[0m\n\u001B[1;32m    183\u001B[0m         \u001B[0mself\u001B[0m\u001B[0;34m.\u001B[0m\u001B[0m_is_string\u001B[0m \u001B[0;34m=\u001B[0m \u001B[0misinstance\u001B[0m\u001B[0;34m(\u001B[0m\u001B[0mdata\u001B[0m\u001B[0;34m.\u001B[0m\u001B[0mdtype\u001B[0m\u001B[0;34m,\u001B[0m \u001B[0mStringDtype\u001B[0m\u001B[0;34m)\u001B[0m\u001B[0;34m\u001B[0m\u001B[0;34m\u001B[0m\u001B[0m\n",
      "\u001B[0;32m~/opt/anaconda3/lib/python3.9/site-packages/pandas/core/strings/accessor.py\u001B[0m in \u001B[0;36m_validate\u001B[0;34m(data)\u001B[0m\n\u001B[1;32m    233\u001B[0m \u001B[0;34m\u001B[0m\u001B[0m\n\u001B[1;32m    234\u001B[0m         \u001B[0;32mif\u001B[0m \u001B[0minferred_dtype\u001B[0m \u001B[0;32mnot\u001B[0m \u001B[0;32min\u001B[0m \u001B[0mallowed_types\u001B[0m\u001B[0;34m:\u001B[0m\u001B[0;34m\u001B[0m\u001B[0;34m\u001B[0m\u001B[0m\n\u001B[0;32m--> 235\u001B[0;31m             \u001B[0;32mraise\u001B[0m \u001B[0mAttributeError\u001B[0m\u001B[0;34m(\u001B[0m\u001B[0;34m\"Can only use .str accessor with string values!\"\u001B[0m\u001B[0;34m)\u001B[0m\u001B[0;34m\u001B[0m\u001B[0;34m\u001B[0m\u001B[0m\n\u001B[0m\u001B[1;32m    236\u001B[0m         \u001B[0;32mreturn\u001B[0m \u001B[0minferred_dtype\u001B[0m\u001B[0;34m\u001B[0m\u001B[0;34m\u001B[0m\u001B[0m\n\u001B[1;32m    237\u001B[0m \u001B[0;34m\u001B[0m\u001B[0m\n",
      "\u001B[0;31mAttributeError\u001B[0m: Can only use .str accessor with string values!"
     ]
    }
   ],
   "source": [
    "# todo:         FUTURE IMPLEMENTATION: split kr/kg and kr/l into separate columns\n",
    "df.Price = df['Price'].str.replace(',', '.')\n",
    "df['Original Price'] = df['Original Price'].str.replace(' kr', '')\n",
    "df['Original Price'] = df['Original Price'].str.replace(',', '.')\n",
    "df['Original Price'] = df['Original Price'].str.replace('/kg', '')"
   ],
   "metadata": {
    "collapsed": false,
    "ExecuteTime": {
     "end_time": "2023-05-09T12:40:50.087339Z",
     "start_time": "2023-05-09T12:40:50.075442Z"
    }
   }
  },
  {
   "cell_type": "code",
   "execution_count": 230,
   "outputs": [],
   "source": [
    "df.Price = df['Price'].astype('float')\n",
    "df['Original Price'] = df['Original Price'].astype(float)"
   ],
   "metadata": {
    "collapsed": false,
    "ExecuteTime": {
     "end_time": "2023-05-09T12:40:50.352439Z",
     "start_time": "2023-05-09T12:40:50.347048Z"
    }
   }
  },
  {
   "cell_type": "code",
   "execution_count": 231,
   "outputs": [],
   "source": [
    "df.fillna(np.NaN, inplace=True)"
   ],
   "metadata": {
    "collapsed": false,
    "ExecuteTime": {
     "end_time": "2023-05-09T12:40:51.995371Z",
     "start_time": "2023-05-09T12:40:51.987821Z"
    }
   }
  },
  {
   "cell_type": "markdown",
   "source": [
    "### Translate the ingredients\n",
    "Swedish to english using google translate API"
   ],
   "metadata": {
    "collapsed": false
   }
  },
  {
   "cell_type": "code",
   "execution_count": 232,
   "outputs": [
    {
     "name": "stdout",
     "output_type": "stream",
     "text": [
      "ERROR1:retrying... Bacon Rökt&skivat\n",
      "ERROR2:retrying... Bacon Rökt&skivat\n",
      "ERROR3:retrying... Bacon Rökt&skivat\n",
      "ERROR4:retrying... Bacon Rökt&skivat\n",
      "ERROR5:retrying... Bacon Rökt&skivat\n"
     ]
    },
    {
     "ename": "KeyboardInterrupt",
     "evalue": "",
     "output_type": "error",
     "traceback": [
      "\u001B[0;31m---------------------------------------------------------------------------\u001B[0m",
      "\u001B[0;31mKeyboardInterrupt\u001B[0m                         Traceback (most recent call last)",
      "\u001B[0;32m/var/folders/dy/x6z2mb456s9dvq77dv75k9xr0000gn/T/ipykernel_60183/1657630579.py\u001B[0m in \u001B[0;36m<module>\u001B[0;34m\u001B[0m\n\u001B[0;32m----> 1\u001B[0;31m \u001B[0mtranslated_names\u001B[0m \u001B[0;34m=\u001B[0m \u001B[0mfuncs\u001B[0m\u001B[0;34m.\u001B[0m\u001B[0mtranslate_food_names\u001B[0m\u001B[0;34m(\u001B[0m\u001B[0mdf\u001B[0m\u001B[0;34m)\u001B[0m\u001B[0;34m\u001B[0m\u001B[0;34m\u001B[0m\u001B[0m\n\u001B[0m",
      "\u001B[0;32m~/Documents/NOD Bootcamp/Project - Web scrape_API (End of week 5 start)/funcs.py\u001B[0m in \u001B[0;36mtranslate_food_names\u001B[0;34m(df)\u001B[0m\n\u001B[1;32m     34\u001B[0m             \u001B[0;32mtry\u001B[0m\u001B[0;34m:\u001B[0m\u001B[0;34m\u001B[0m\u001B[0;34m\u001B[0m\u001B[0m\n\u001B[1;32m     35\u001B[0m                 \u001B[0mtime\u001B[0m\u001B[0;34m.\u001B[0m\u001B[0msleep\u001B[0m\u001B[0;34m(\u001B[0m\u001B[0;36m0.1\u001B[0m\u001B[0;34m)\u001B[0m\u001B[0;34m\u001B[0m\u001B[0;34m\u001B[0m\u001B[0m\n\u001B[0;32m---> 36\u001B[0;31m                 \u001B[0mtranslated\u001B[0m \u001B[0;34m=\u001B[0m \u001B[0mtranslator\u001B[0m\u001B[0;34m.\u001B[0m\u001B[0mtranslate\u001B[0m\u001B[0;34m(\u001B[0m\u001B[0mtext\u001B[0m\u001B[0;34m=\u001B[0m\u001B[0mitem\u001B[0m\u001B[0;34m,\u001B[0m \u001B[0msrc\u001B[0m\u001B[0;34m=\u001B[0m\u001B[0;34m'sv'\u001B[0m\u001B[0;34m,\u001B[0m \u001B[0mdest\u001B[0m\u001B[0;34m=\u001B[0m\u001B[0;34m'en'\u001B[0m\u001B[0;34m)\u001B[0m\u001B[0;34m\u001B[0m\u001B[0;34m\u001B[0m\u001B[0m\n\u001B[0m\u001B[1;32m     37\u001B[0m                 \u001B[0mtranslated_names_lst\u001B[0m\u001B[0;34m.\u001B[0m\u001B[0mappend\u001B[0m\u001B[0;34m(\u001B[0m\u001B[0mtranslated\u001B[0m\u001B[0;34m.\u001B[0m\u001B[0mtext\u001B[0m\u001B[0;34m)\u001B[0m\u001B[0;34m\u001B[0m\u001B[0;34m\u001B[0m\u001B[0m\n\u001B[1;32m     38\u001B[0m                 \u001B[0msuccess_count\u001B[0m \u001B[0;34m+=\u001B[0m \u001B[0;36m1\u001B[0m\u001B[0;34m\u001B[0m\u001B[0;34m\u001B[0m\u001B[0m\n",
      "\u001B[0;32m~/opt/anaconda3/lib/python3.9/site-packages/googletrans/client.py\u001B[0m in \u001B[0;36mtranslate\u001B[0;34m(self, text, dest, src)\u001B[0m\n\u001B[1;32m    192\u001B[0m \u001B[0;34m\u001B[0m\u001B[0m\n\u001B[1;32m    193\u001B[0m         \u001B[0morigin\u001B[0m \u001B[0;34m=\u001B[0m \u001B[0mtext\u001B[0m\u001B[0;34m\u001B[0m\u001B[0;34m\u001B[0m\u001B[0m\n\u001B[0;32m--> 194\u001B[0;31m         \u001B[0mdata\u001B[0m\u001B[0;34m,\u001B[0m \u001B[0mresponse\u001B[0m \u001B[0;34m=\u001B[0m \u001B[0mself\u001B[0m\u001B[0;34m.\u001B[0m\u001B[0m_translate\u001B[0m\u001B[0;34m(\u001B[0m\u001B[0mtext\u001B[0m\u001B[0;34m,\u001B[0m \u001B[0mdest\u001B[0m\u001B[0;34m,\u001B[0m \u001B[0msrc\u001B[0m\u001B[0;34m)\u001B[0m\u001B[0;34m\u001B[0m\u001B[0;34m\u001B[0m\u001B[0m\n\u001B[0m\u001B[1;32m    195\u001B[0m \u001B[0;34m\u001B[0m\u001B[0m\n\u001B[1;32m    196\u001B[0m         \u001B[0mtoken_found\u001B[0m \u001B[0;34m=\u001B[0m \u001B[0;32mFalse\u001B[0m\u001B[0;34m\u001B[0m\u001B[0;34m\u001B[0m\u001B[0m\n",
      "\u001B[0;32m~/opt/anaconda3/lib/python3.9/site-packages/googletrans/client.py\u001B[0m in \u001B[0;36m_translate\u001B[0;34m(self, text, dest, src)\u001B[0m\n\u001B[1;32m    118\u001B[0m             \u001B[0;34m'rt'\u001B[0m\u001B[0;34m:\u001B[0m \u001B[0;34m'c'\u001B[0m\u001B[0;34m,\u001B[0m\u001B[0;34m\u001B[0m\u001B[0;34m\u001B[0m\u001B[0m\n\u001B[1;32m    119\u001B[0m         }\n\u001B[0;32m--> 120\u001B[0;31m         \u001B[0mr\u001B[0m \u001B[0;34m=\u001B[0m \u001B[0mself\u001B[0m\u001B[0;34m.\u001B[0m\u001B[0mclient\u001B[0m\u001B[0;34m.\u001B[0m\u001B[0mpost\u001B[0m\u001B[0;34m(\u001B[0m\u001B[0murl\u001B[0m\u001B[0;34m,\u001B[0m \u001B[0mparams\u001B[0m\u001B[0;34m=\u001B[0m\u001B[0mparams\u001B[0m\u001B[0;34m,\u001B[0m \u001B[0mdata\u001B[0m\u001B[0;34m=\u001B[0m\u001B[0mdata\u001B[0m\u001B[0;34m)\u001B[0m\u001B[0;34m\u001B[0m\u001B[0;34m\u001B[0m\u001B[0m\n\u001B[0m\u001B[1;32m    121\u001B[0m \u001B[0;34m\u001B[0m\u001B[0m\n\u001B[1;32m    122\u001B[0m         \u001B[0;32mif\u001B[0m \u001B[0mr\u001B[0m\u001B[0;34m.\u001B[0m\u001B[0mstatus_code\u001B[0m \u001B[0;34m!=\u001B[0m \u001B[0;36m200\u001B[0m \u001B[0;32mand\u001B[0m \u001B[0mself\u001B[0m\u001B[0;34m.\u001B[0m\u001B[0mraise_Exception\u001B[0m\u001B[0;34m:\u001B[0m\u001B[0;34m\u001B[0m\u001B[0;34m\u001B[0m\u001B[0m\n",
      "\u001B[0;32m~/opt/anaconda3/lib/python3.9/site-packages/httpx/_client.py\u001B[0m in \u001B[0;36mpost\u001B[0;34m(self, url, data, files, json, params, headers, cookies, auth, allow_redirects, timeout)\u001B[0m\n\u001B[1;32m    822\u001B[0m         \u001B[0mtimeout\u001B[0m\u001B[0;34m:\u001B[0m \u001B[0mtyping\u001B[0m\u001B[0;34m.\u001B[0m\u001B[0mUnion\u001B[0m\u001B[0;34m[\u001B[0m\u001B[0mTimeoutTypes\u001B[0m\u001B[0;34m,\u001B[0m \u001B[0mUnsetType\u001B[0m\u001B[0;34m]\u001B[0m \u001B[0;34m=\u001B[0m \u001B[0mUNSET\u001B[0m\u001B[0;34m,\u001B[0m\u001B[0;34m\u001B[0m\u001B[0;34m\u001B[0m\u001B[0m\n\u001B[1;32m    823\u001B[0m     ) -> Response:\n\u001B[0;32m--> 824\u001B[0;31m         return self.request(\n\u001B[0m\u001B[1;32m    825\u001B[0m             \u001B[0;34m\"POST\"\u001B[0m\u001B[0;34m,\u001B[0m\u001B[0;34m\u001B[0m\u001B[0;34m\u001B[0m\u001B[0m\n\u001B[1;32m    826\u001B[0m             \u001B[0murl\u001B[0m\u001B[0;34m,\u001B[0m\u001B[0;34m\u001B[0m\u001B[0;34m\u001B[0m\u001B[0m\n",
      "\u001B[0;32m~/opt/anaconda3/lib/python3.9/site-packages/httpx/_client.py\u001B[0m in \u001B[0;36mrequest\u001B[0;34m(self, method, url, data, files, json, params, headers, cookies, auth, allow_redirects, timeout)\u001B[0m\n\u001B[1;32m    598\u001B[0m             \u001B[0mcookies\u001B[0m\u001B[0;34m=\u001B[0m\u001B[0mcookies\u001B[0m\u001B[0;34m,\u001B[0m\u001B[0;34m\u001B[0m\u001B[0;34m\u001B[0m\u001B[0m\n\u001B[1;32m    599\u001B[0m         )\n\u001B[0;32m--> 600\u001B[0;31m         return self.send(\n\u001B[0m\u001B[1;32m    601\u001B[0m             \u001B[0mrequest\u001B[0m\u001B[0;34m,\u001B[0m \u001B[0mauth\u001B[0m\u001B[0;34m=\u001B[0m\u001B[0mauth\u001B[0m\u001B[0;34m,\u001B[0m \u001B[0mallow_redirects\u001B[0m\u001B[0;34m=\u001B[0m\u001B[0mallow_redirects\u001B[0m\u001B[0;34m,\u001B[0m \u001B[0mtimeout\u001B[0m\u001B[0;34m=\u001B[0m\u001B[0mtimeout\u001B[0m\u001B[0;34m,\u001B[0m\u001B[0;34m\u001B[0m\u001B[0;34m\u001B[0m\u001B[0m\n\u001B[1;32m    602\u001B[0m         )\n",
      "\u001B[0;32m~/opt/anaconda3/lib/python3.9/site-packages/httpx/_client.py\u001B[0m in \u001B[0;36msend\u001B[0;34m(self, request, stream, auth, allow_redirects, timeout)\u001B[0m\n\u001B[1;32m    618\u001B[0m         \u001B[0mauth\u001B[0m \u001B[0;34m=\u001B[0m \u001B[0mself\u001B[0m\u001B[0;34m.\u001B[0m\u001B[0mbuild_auth\u001B[0m\u001B[0;34m(\u001B[0m\u001B[0mrequest\u001B[0m\u001B[0;34m,\u001B[0m \u001B[0mauth\u001B[0m\u001B[0;34m)\u001B[0m\u001B[0;34m\u001B[0m\u001B[0;34m\u001B[0m\u001B[0m\n\u001B[1;32m    619\u001B[0m \u001B[0;34m\u001B[0m\u001B[0m\n\u001B[0;32m--> 620\u001B[0;31m         response = self.send_handling_redirects(\n\u001B[0m\u001B[1;32m    621\u001B[0m             \u001B[0mrequest\u001B[0m\u001B[0;34m,\u001B[0m \u001B[0mauth\u001B[0m\u001B[0;34m=\u001B[0m\u001B[0mauth\u001B[0m\u001B[0;34m,\u001B[0m \u001B[0mtimeout\u001B[0m\u001B[0;34m=\u001B[0m\u001B[0mtimeout\u001B[0m\u001B[0;34m,\u001B[0m \u001B[0mallow_redirects\u001B[0m\u001B[0;34m=\u001B[0m\u001B[0mallow_redirects\u001B[0m\u001B[0;34m,\u001B[0m\u001B[0;34m\u001B[0m\u001B[0;34m\u001B[0m\u001B[0m\n\u001B[1;32m    622\u001B[0m         )\n",
      "\u001B[0;32m~/opt/anaconda3/lib/python3.9/site-packages/httpx/_client.py\u001B[0m in \u001B[0;36msend_handling_redirects\u001B[0;34m(self, request, auth, timeout, allow_redirects, history)\u001B[0m\n\u001B[1;32m    645\u001B[0m                 \u001B[0;32mraise\u001B[0m \u001B[0mTooManyRedirects\u001B[0m\u001B[0;34m(\u001B[0m\u001B[0;34m)\u001B[0m\u001B[0;34m\u001B[0m\u001B[0;34m\u001B[0m\u001B[0m\n\u001B[1;32m    646\u001B[0m \u001B[0;34m\u001B[0m\u001B[0m\n\u001B[0;32m--> 647\u001B[0;31m             response = self.send_handling_auth(\n\u001B[0m\u001B[1;32m    648\u001B[0m                 \u001B[0mrequest\u001B[0m\u001B[0;34m,\u001B[0m \u001B[0mauth\u001B[0m\u001B[0;34m=\u001B[0m\u001B[0mauth\u001B[0m\u001B[0;34m,\u001B[0m \u001B[0mtimeout\u001B[0m\u001B[0;34m=\u001B[0m\u001B[0mtimeout\u001B[0m\u001B[0;34m,\u001B[0m \u001B[0mhistory\u001B[0m\u001B[0;34m=\u001B[0m\u001B[0mhistory\u001B[0m\u001B[0;34m\u001B[0m\u001B[0;34m\u001B[0m\u001B[0m\n\u001B[1;32m    649\u001B[0m             )\n",
      "\u001B[0;32m~/opt/anaconda3/lib/python3.9/site-packages/httpx/_client.py\u001B[0m in \u001B[0;36msend_handling_auth\u001B[0;34m(self, request, history, auth, timeout)\u001B[0m\n\u001B[1;32m    682\u001B[0m         \u001B[0mrequest\u001B[0m \u001B[0;34m=\u001B[0m \u001B[0mnext\u001B[0m\u001B[0;34m(\u001B[0m\u001B[0mauth_flow\u001B[0m\u001B[0;34m)\u001B[0m\u001B[0;34m\u001B[0m\u001B[0;34m\u001B[0m\u001B[0m\n\u001B[1;32m    683\u001B[0m         \u001B[0;32mwhile\u001B[0m \u001B[0;32mTrue\u001B[0m\u001B[0;34m:\u001B[0m\u001B[0;34m\u001B[0m\u001B[0;34m\u001B[0m\u001B[0m\n\u001B[0;32m--> 684\u001B[0;31m             \u001B[0mresponse\u001B[0m \u001B[0;34m=\u001B[0m \u001B[0mself\u001B[0m\u001B[0;34m.\u001B[0m\u001B[0msend_single_request\u001B[0m\u001B[0;34m(\u001B[0m\u001B[0mrequest\u001B[0m\u001B[0;34m,\u001B[0m \u001B[0mtimeout\u001B[0m\u001B[0;34m)\u001B[0m\u001B[0;34m\u001B[0m\u001B[0;34m\u001B[0m\u001B[0m\n\u001B[0m\u001B[1;32m    685\u001B[0m             \u001B[0;32mif\u001B[0m \u001B[0mauth\u001B[0m\u001B[0;34m.\u001B[0m\u001B[0mrequires_response_body\u001B[0m\u001B[0;34m:\u001B[0m\u001B[0;34m\u001B[0m\u001B[0;34m\u001B[0m\u001B[0m\n\u001B[1;32m    686\u001B[0m                 \u001B[0mresponse\u001B[0m\u001B[0;34m.\u001B[0m\u001B[0mread\u001B[0m\u001B[0;34m(\u001B[0m\u001B[0;34m)\u001B[0m\u001B[0;34m\u001B[0m\u001B[0;34m\u001B[0m\u001B[0m\n",
      "\u001B[0;32m~/opt/anaconda3/lib/python3.9/site-packages/httpx/_client.py\u001B[0m in \u001B[0;36msend_single_request\u001B[0;34m(self, request, timeout)\u001B[0m\n\u001B[1;32m    712\u001B[0m                 \u001B[0mheaders\u001B[0m\u001B[0;34m,\u001B[0m\u001B[0;34m\u001B[0m\u001B[0;34m\u001B[0m\u001B[0m\n\u001B[1;32m    713\u001B[0m                 \u001B[0mstream\u001B[0m\u001B[0;34m,\u001B[0m\u001B[0;34m\u001B[0m\u001B[0;34m\u001B[0m\u001B[0m\n\u001B[0;32m--> 714\u001B[0;31m             \u001B[0;34m)\u001B[0m \u001B[0;34m=\u001B[0m \u001B[0mtransport\u001B[0m\u001B[0;34m.\u001B[0m\u001B[0mrequest\u001B[0m\u001B[0;34m(\u001B[0m\u001B[0;34m\u001B[0m\u001B[0;34m\u001B[0m\u001B[0m\n\u001B[0m\u001B[1;32m    715\u001B[0m                 \u001B[0mrequest\u001B[0m\u001B[0;34m.\u001B[0m\u001B[0mmethod\u001B[0m\u001B[0;34m.\u001B[0m\u001B[0mencode\u001B[0m\u001B[0;34m(\u001B[0m\u001B[0;34m)\u001B[0m\u001B[0;34m,\u001B[0m\u001B[0;34m\u001B[0m\u001B[0;34m\u001B[0m\u001B[0m\n\u001B[1;32m    716\u001B[0m                 \u001B[0mrequest\u001B[0m\u001B[0;34m.\u001B[0m\u001B[0murl\u001B[0m\u001B[0;34m.\u001B[0m\u001B[0mraw\u001B[0m\u001B[0;34m,\u001B[0m\u001B[0;34m\u001B[0m\u001B[0;34m\u001B[0m\u001B[0m\n",
      "\u001B[0;32m~/opt/anaconda3/lib/python3.9/site-packages/httpcore/_sync/connection_pool.py\u001B[0m in \u001B[0;36mrequest\u001B[0;34m(self, method, url, headers, stream, timeout)\u001B[0m\n\u001B[1;32m    150\u001B[0m \u001B[0;34m\u001B[0m\u001B[0m\n\u001B[1;32m    151\u001B[0m             \u001B[0;32mtry\u001B[0m\u001B[0;34m:\u001B[0m\u001B[0;34m\u001B[0m\u001B[0;34m\u001B[0m\u001B[0m\n\u001B[0;32m--> 152\u001B[0;31m                 response = connection.request(\n\u001B[0m\u001B[1;32m    153\u001B[0m                     \u001B[0mmethod\u001B[0m\u001B[0;34m,\u001B[0m \u001B[0murl\u001B[0m\u001B[0;34m,\u001B[0m \u001B[0mheaders\u001B[0m\u001B[0;34m=\u001B[0m\u001B[0mheaders\u001B[0m\u001B[0;34m,\u001B[0m \u001B[0mstream\u001B[0m\u001B[0;34m=\u001B[0m\u001B[0mstream\u001B[0m\u001B[0;34m,\u001B[0m \u001B[0mtimeout\u001B[0m\u001B[0;34m=\u001B[0m\u001B[0mtimeout\u001B[0m\u001B[0;34m\u001B[0m\u001B[0;34m\u001B[0m\u001B[0m\n\u001B[1;32m    154\u001B[0m                 )\n",
      "\u001B[0;32m~/opt/anaconda3/lib/python3.9/site-packages/httpcore/_sync/connection.py\u001B[0m in \u001B[0;36mrequest\u001B[0;34m(self, method, url, headers, stream, timeout)\u001B[0m\n\u001B[1;32m     76\u001B[0m             \u001B[0;34m\"connection.request method=%r url=%r headers=%r\"\u001B[0m\u001B[0;34m,\u001B[0m \u001B[0mmethod\u001B[0m\u001B[0;34m,\u001B[0m \u001B[0murl\u001B[0m\u001B[0;34m,\u001B[0m \u001B[0mheaders\u001B[0m\u001B[0;34m\u001B[0m\u001B[0;34m\u001B[0m\u001B[0m\n\u001B[1;32m     77\u001B[0m         )\n\u001B[0;32m---> 78\u001B[0;31m         \u001B[0;32mreturn\u001B[0m \u001B[0mself\u001B[0m\u001B[0;34m.\u001B[0m\u001B[0mconnection\u001B[0m\u001B[0;34m.\u001B[0m\u001B[0mrequest\u001B[0m\u001B[0;34m(\u001B[0m\u001B[0mmethod\u001B[0m\u001B[0;34m,\u001B[0m \u001B[0murl\u001B[0m\u001B[0;34m,\u001B[0m \u001B[0mheaders\u001B[0m\u001B[0;34m,\u001B[0m \u001B[0mstream\u001B[0m\u001B[0;34m,\u001B[0m \u001B[0mtimeout\u001B[0m\u001B[0;34m)\u001B[0m\u001B[0;34m\u001B[0m\u001B[0;34m\u001B[0m\u001B[0m\n\u001B[0m\u001B[1;32m     79\u001B[0m \u001B[0;34m\u001B[0m\u001B[0m\n\u001B[1;32m     80\u001B[0m     \u001B[0;32mdef\u001B[0m \u001B[0m_open_socket\u001B[0m\u001B[0;34m(\u001B[0m\u001B[0mself\u001B[0m\u001B[0;34m,\u001B[0m \u001B[0mtimeout\u001B[0m\u001B[0;34m:\u001B[0m \u001B[0mTimeoutDict\u001B[0m \u001B[0;34m=\u001B[0m \u001B[0;32mNone\u001B[0m\u001B[0;34m)\u001B[0m \u001B[0;34m->\u001B[0m \u001B[0mSyncSocketStream\u001B[0m\u001B[0;34m:\u001B[0m\u001B[0;34m\u001B[0m\u001B[0;34m\u001B[0m\u001B[0m\n",
      "\u001B[0;32m~/opt/anaconda3/lib/python3.9/site-packages/httpcore/_sync/http2.py\u001B[0m in \u001B[0;36mrequest\u001B[0;34m(self, method, url, headers, stream, timeout)\u001B[0m\n\u001B[1;32m    116\u001B[0m             \u001B[0mself\u001B[0m\u001B[0;34m.\u001B[0m\u001B[0mstreams\u001B[0m\u001B[0;34m[\u001B[0m\u001B[0mstream_id\u001B[0m\u001B[0;34m]\u001B[0m \u001B[0;34m=\u001B[0m \u001B[0mh2_stream\u001B[0m\u001B[0;34m\u001B[0m\u001B[0;34m\u001B[0m\u001B[0m\n\u001B[1;32m    117\u001B[0m             \u001B[0mself\u001B[0m\u001B[0;34m.\u001B[0m\u001B[0mevents\u001B[0m\u001B[0;34m[\u001B[0m\u001B[0mstream_id\u001B[0m\u001B[0;34m]\u001B[0m \u001B[0;34m=\u001B[0m \u001B[0;34m[\u001B[0m\u001B[0;34m]\u001B[0m\u001B[0;34m\u001B[0m\u001B[0;34m\u001B[0m\u001B[0m\n\u001B[0;32m--> 118\u001B[0;31m             \u001B[0;32mreturn\u001B[0m \u001B[0mh2_stream\u001B[0m\u001B[0;34m.\u001B[0m\u001B[0mrequest\u001B[0m\u001B[0;34m(\u001B[0m\u001B[0mmethod\u001B[0m\u001B[0;34m,\u001B[0m \u001B[0murl\u001B[0m\u001B[0;34m,\u001B[0m \u001B[0mheaders\u001B[0m\u001B[0;34m,\u001B[0m \u001B[0mstream\u001B[0m\u001B[0;34m,\u001B[0m \u001B[0mtimeout\u001B[0m\u001B[0;34m)\u001B[0m\u001B[0;34m\u001B[0m\u001B[0;34m\u001B[0m\u001B[0m\n\u001B[0m\u001B[1;32m    119\u001B[0m         \u001B[0;32mexcept\u001B[0m \u001B[0mException\u001B[0m\u001B[0;34m:\u001B[0m\u001B[0;34m\u001B[0m\u001B[0;34m\u001B[0m\u001B[0m\n\u001B[1;32m    120\u001B[0m             \u001B[0mself\u001B[0m\u001B[0;34m.\u001B[0m\u001B[0mmax_streams_semaphore\u001B[0m\u001B[0;34m.\u001B[0m\u001B[0mrelease\u001B[0m\u001B[0;34m(\u001B[0m\u001B[0;34m)\u001B[0m\u001B[0;34m\u001B[0m\u001B[0;34m\u001B[0m\u001B[0m\n",
      "\u001B[0;32m~/opt/anaconda3/lib/python3.9/site-packages/httpcore/_sync/http2.py\u001B[0m in \u001B[0;36mrequest\u001B[0;34m(self, method, url, headers, stream, timeout)\u001B[0m\n\u001B[1;32m    290\u001B[0m \u001B[0;34m\u001B[0m\u001B[0m\n\u001B[1;32m    291\u001B[0m         \u001B[0;31m# Receive the response.\u001B[0m\u001B[0;34m\u001B[0m\u001B[0;34m\u001B[0m\u001B[0m\n\u001B[0;32m--> 292\u001B[0;31m         \u001B[0mstatus_code\u001B[0m\u001B[0;34m,\u001B[0m \u001B[0mheaders\u001B[0m \u001B[0;34m=\u001B[0m \u001B[0mself\u001B[0m\u001B[0;34m.\u001B[0m\u001B[0mreceive_response\u001B[0m\u001B[0;34m(\u001B[0m\u001B[0mtimeout\u001B[0m\u001B[0;34m)\u001B[0m\u001B[0;34m\u001B[0m\u001B[0;34m\u001B[0m\u001B[0m\n\u001B[0m\u001B[1;32m    293\u001B[0m         \u001B[0mreason_phrase\u001B[0m \u001B[0;34m=\u001B[0m \u001B[0mget_reason_phrase\u001B[0m\u001B[0;34m(\u001B[0m\u001B[0mstatus_code\u001B[0m\u001B[0;34m)\u001B[0m\u001B[0;34m\u001B[0m\u001B[0;34m\u001B[0m\u001B[0m\n\u001B[1;32m    294\u001B[0m         stream = SyncByteStream(\n",
      "\u001B[0;32m~/opt/anaconda3/lib/python3.9/site-packages/httpcore/_sync/http2.py\u001B[0m in \u001B[0;36mreceive_response\u001B[0;34m(self, timeout)\u001B[0m\n\u001B[1;32m    342\u001B[0m         \"\"\"\n\u001B[1;32m    343\u001B[0m         \u001B[0;32mwhile\u001B[0m \u001B[0;32mTrue\u001B[0m\u001B[0;34m:\u001B[0m\u001B[0;34m\u001B[0m\u001B[0;34m\u001B[0m\u001B[0m\n\u001B[0;32m--> 344\u001B[0;31m             \u001B[0mevent\u001B[0m \u001B[0;34m=\u001B[0m \u001B[0mself\u001B[0m\u001B[0;34m.\u001B[0m\u001B[0mconnection\u001B[0m\u001B[0;34m.\u001B[0m\u001B[0mwait_for_event\u001B[0m\u001B[0;34m(\u001B[0m\u001B[0mself\u001B[0m\u001B[0;34m.\u001B[0m\u001B[0mstream_id\u001B[0m\u001B[0;34m,\u001B[0m \u001B[0mtimeout\u001B[0m\u001B[0;34m)\u001B[0m\u001B[0;34m\u001B[0m\u001B[0;34m\u001B[0m\u001B[0m\n\u001B[0m\u001B[1;32m    345\u001B[0m             \u001B[0;32mif\u001B[0m \u001B[0misinstance\u001B[0m\u001B[0;34m(\u001B[0m\u001B[0mevent\u001B[0m\u001B[0;34m,\u001B[0m \u001B[0mh2\u001B[0m\u001B[0;34m.\u001B[0m\u001B[0mevents\u001B[0m\u001B[0;34m.\u001B[0m\u001B[0mResponseReceived\u001B[0m\u001B[0;34m)\u001B[0m\u001B[0;34m:\u001B[0m\u001B[0;34m\u001B[0m\u001B[0;34m\u001B[0m\u001B[0m\n\u001B[1;32m    346\u001B[0m                 \u001B[0;32mbreak\u001B[0m\u001B[0;34m\u001B[0m\u001B[0;34m\u001B[0m\u001B[0m\n",
      "\u001B[0;32m~/opt/anaconda3/lib/python3.9/site-packages/httpcore/_sync/http2.py\u001B[0m in \u001B[0;36mwait_for_event\u001B[0;34m(self, stream_id, timeout)\u001B[0m\n\u001B[1;32m    195\u001B[0m         \u001B[0;32mwith\u001B[0m \u001B[0mself\u001B[0m\u001B[0;34m.\u001B[0m\u001B[0mread_lock\u001B[0m\u001B[0;34m:\u001B[0m\u001B[0;34m\u001B[0m\u001B[0;34m\u001B[0m\u001B[0m\n\u001B[1;32m    196\u001B[0m             \u001B[0;32mwhile\u001B[0m \u001B[0;32mnot\u001B[0m \u001B[0mself\u001B[0m\u001B[0;34m.\u001B[0m\u001B[0mevents\u001B[0m\u001B[0;34m[\u001B[0m\u001B[0mstream_id\u001B[0m\u001B[0;34m]\u001B[0m\u001B[0;34m:\u001B[0m\u001B[0;34m\u001B[0m\u001B[0;34m\u001B[0m\u001B[0m\n\u001B[0;32m--> 197\u001B[0;31m                 \u001B[0mself\u001B[0m\u001B[0;34m.\u001B[0m\u001B[0mreceive_events\u001B[0m\u001B[0;34m(\u001B[0m\u001B[0mtimeout\u001B[0m\u001B[0;34m)\u001B[0m\u001B[0;34m\u001B[0m\u001B[0;34m\u001B[0m\u001B[0m\n\u001B[0m\u001B[1;32m    198\u001B[0m         \u001B[0;32mreturn\u001B[0m \u001B[0mself\u001B[0m\u001B[0;34m.\u001B[0m\u001B[0mevents\u001B[0m\u001B[0;34m[\u001B[0m\u001B[0mstream_id\u001B[0m\u001B[0;34m]\u001B[0m\u001B[0;34m.\u001B[0m\u001B[0mpop\u001B[0m\u001B[0;34m(\u001B[0m\u001B[0;36m0\u001B[0m\u001B[0;34m)\u001B[0m\u001B[0;34m\u001B[0m\u001B[0;34m\u001B[0m\u001B[0m\n\u001B[1;32m    199\u001B[0m \u001B[0;34m\u001B[0m\u001B[0m\n",
      "\u001B[0;32m~/opt/anaconda3/lib/python3.9/site-packages/httpcore/_sync/http2.py\u001B[0m in \u001B[0;36mreceive_events\u001B[0;34m(self, timeout)\u001B[0m\n\u001B[1;32m    202\u001B[0m         \u001B[0mRead\u001B[0m \u001B[0msome\u001B[0m \u001B[0mdata\u001B[0m \u001B[0;32mfrom\u001B[0m \u001B[0mthe\u001B[0m \u001B[0mnetwork\u001B[0m\u001B[0;34m,\u001B[0m \u001B[0;32mand\u001B[0m \u001B[0mupdate\u001B[0m \u001B[0mthe\u001B[0m \u001B[0mH2\u001B[0m \u001B[0mstate\u001B[0m\u001B[0;34m.\u001B[0m\u001B[0;34m\u001B[0m\u001B[0;34m\u001B[0m\u001B[0m\n\u001B[1;32m    203\u001B[0m         \"\"\"\n\u001B[0;32m--> 204\u001B[0;31m         \u001B[0mdata\u001B[0m \u001B[0;34m=\u001B[0m \u001B[0mself\u001B[0m\u001B[0;34m.\u001B[0m\u001B[0msocket\u001B[0m\u001B[0;34m.\u001B[0m\u001B[0mread\u001B[0m\u001B[0;34m(\u001B[0m\u001B[0mself\u001B[0m\u001B[0;34m.\u001B[0m\u001B[0mREAD_NUM_BYTES\u001B[0m\u001B[0;34m,\u001B[0m \u001B[0mtimeout\u001B[0m\u001B[0;34m)\u001B[0m\u001B[0;34m\u001B[0m\u001B[0;34m\u001B[0m\u001B[0m\n\u001B[0m\u001B[1;32m    205\u001B[0m         \u001B[0mevents\u001B[0m \u001B[0;34m=\u001B[0m \u001B[0mself\u001B[0m\u001B[0;34m.\u001B[0m\u001B[0mh2_state\u001B[0m\u001B[0;34m.\u001B[0m\u001B[0mreceive_data\u001B[0m\u001B[0;34m(\u001B[0m\u001B[0mdata\u001B[0m\u001B[0;34m)\u001B[0m\u001B[0;34m\u001B[0m\u001B[0;34m\u001B[0m\u001B[0m\n\u001B[1;32m    206\u001B[0m         \u001B[0;32mfor\u001B[0m \u001B[0mevent\u001B[0m \u001B[0;32min\u001B[0m \u001B[0mevents\u001B[0m\u001B[0;34m:\u001B[0m\u001B[0;34m\u001B[0m\u001B[0;34m\u001B[0m\u001B[0m\n",
      "\u001B[0;32m~/opt/anaconda3/lib/python3.9/site-packages/httpcore/_backends/sync.py\u001B[0m in \u001B[0;36mread\u001B[0;34m(self, n, timeout)\u001B[0m\n\u001B[1;32m     60\u001B[0m             \u001B[0;32mwith\u001B[0m \u001B[0mmap_exceptions\u001B[0m\u001B[0;34m(\u001B[0m\u001B[0mexc_map\u001B[0m\u001B[0;34m)\u001B[0m\u001B[0;34m:\u001B[0m\u001B[0;34m\u001B[0m\u001B[0;34m\u001B[0m\u001B[0m\n\u001B[1;32m     61\u001B[0m                 \u001B[0mself\u001B[0m\u001B[0;34m.\u001B[0m\u001B[0msock\u001B[0m\u001B[0;34m.\u001B[0m\u001B[0msettimeout\u001B[0m\u001B[0;34m(\u001B[0m\u001B[0mread_timeout\u001B[0m\u001B[0;34m)\u001B[0m\u001B[0;34m\u001B[0m\u001B[0;34m\u001B[0m\u001B[0m\n\u001B[0;32m---> 62\u001B[0;31m                 \u001B[0;32mreturn\u001B[0m \u001B[0mself\u001B[0m\u001B[0;34m.\u001B[0m\u001B[0msock\u001B[0m\u001B[0;34m.\u001B[0m\u001B[0mrecv\u001B[0m\u001B[0;34m(\u001B[0m\u001B[0mn\u001B[0m\u001B[0;34m)\u001B[0m\u001B[0;34m\u001B[0m\u001B[0;34m\u001B[0m\u001B[0m\n\u001B[0m\u001B[1;32m     63\u001B[0m \u001B[0;34m\u001B[0m\u001B[0m\n\u001B[1;32m     64\u001B[0m     \u001B[0;32mdef\u001B[0m \u001B[0mwrite\u001B[0m\u001B[0;34m(\u001B[0m\u001B[0mself\u001B[0m\u001B[0;34m,\u001B[0m \u001B[0mdata\u001B[0m\u001B[0;34m:\u001B[0m \u001B[0mbytes\u001B[0m\u001B[0;34m,\u001B[0m \u001B[0mtimeout\u001B[0m\u001B[0;34m:\u001B[0m \u001B[0mTimeoutDict\u001B[0m\u001B[0;34m)\u001B[0m \u001B[0;34m->\u001B[0m \u001B[0;32mNone\u001B[0m\u001B[0;34m:\u001B[0m\u001B[0;34m\u001B[0m\u001B[0;34m\u001B[0m\u001B[0m\n",
      "\u001B[0;32m~/opt/anaconda3/lib/python3.9/ssl.py\u001B[0m in \u001B[0;36mrecv\u001B[0;34m(self, buflen, flags)\u001B[0m\n\u001B[1;32m   1225\u001B[0m                     \u001B[0;34m\"non-zero flags not allowed in calls to recv() on %s\"\u001B[0m \u001B[0;34m%\u001B[0m\u001B[0;34m\u001B[0m\u001B[0;34m\u001B[0m\u001B[0m\n\u001B[1;32m   1226\u001B[0m                     self.__class__)\n\u001B[0;32m-> 1227\u001B[0;31m             \u001B[0;32mreturn\u001B[0m \u001B[0mself\u001B[0m\u001B[0;34m.\u001B[0m\u001B[0mread\u001B[0m\u001B[0;34m(\u001B[0m\u001B[0mbuflen\u001B[0m\u001B[0;34m)\u001B[0m\u001B[0;34m\u001B[0m\u001B[0;34m\u001B[0m\u001B[0m\n\u001B[0m\u001B[1;32m   1228\u001B[0m         \u001B[0;32melse\u001B[0m\u001B[0;34m:\u001B[0m\u001B[0;34m\u001B[0m\u001B[0;34m\u001B[0m\u001B[0m\n\u001B[1;32m   1229\u001B[0m             \u001B[0;32mreturn\u001B[0m \u001B[0msuper\u001B[0m\u001B[0;34m(\u001B[0m\u001B[0;34m)\u001B[0m\u001B[0;34m.\u001B[0m\u001B[0mrecv\u001B[0m\u001B[0;34m(\u001B[0m\u001B[0mbuflen\u001B[0m\u001B[0;34m,\u001B[0m \u001B[0mflags\u001B[0m\u001B[0;34m)\u001B[0m\u001B[0;34m\u001B[0m\u001B[0;34m\u001B[0m\u001B[0m\n",
      "\u001B[0;32m~/opt/anaconda3/lib/python3.9/ssl.py\u001B[0m in \u001B[0;36mread\u001B[0;34m(self, len, buffer)\u001B[0m\n\u001B[1;32m   1100\u001B[0m                 \u001B[0;32mreturn\u001B[0m \u001B[0mself\u001B[0m\u001B[0;34m.\u001B[0m\u001B[0m_sslobj\u001B[0m\u001B[0;34m.\u001B[0m\u001B[0mread\u001B[0m\u001B[0;34m(\u001B[0m\u001B[0mlen\u001B[0m\u001B[0;34m,\u001B[0m \u001B[0mbuffer\u001B[0m\u001B[0;34m)\u001B[0m\u001B[0;34m\u001B[0m\u001B[0;34m\u001B[0m\u001B[0m\n\u001B[1;32m   1101\u001B[0m             \u001B[0;32melse\u001B[0m\u001B[0;34m:\u001B[0m\u001B[0;34m\u001B[0m\u001B[0;34m\u001B[0m\u001B[0m\n\u001B[0;32m-> 1102\u001B[0;31m                 \u001B[0;32mreturn\u001B[0m \u001B[0mself\u001B[0m\u001B[0;34m.\u001B[0m\u001B[0m_sslobj\u001B[0m\u001B[0;34m.\u001B[0m\u001B[0mread\u001B[0m\u001B[0;34m(\u001B[0m\u001B[0mlen\u001B[0m\u001B[0;34m)\u001B[0m\u001B[0;34m\u001B[0m\u001B[0;34m\u001B[0m\u001B[0m\n\u001B[0m\u001B[1;32m   1103\u001B[0m         \u001B[0;32mexcept\u001B[0m \u001B[0mSSLError\u001B[0m \u001B[0;32mas\u001B[0m \u001B[0mx\u001B[0m\u001B[0;34m:\u001B[0m\u001B[0;34m\u001B[0m\u001B[0;34m\u001B[0m\u001B[0m\n\u001B[1;32m   1104\u001B[0m             \u001B[0;32mif\u001B[0m \u001B[0mx\u001B[0m\u001B[0;34m.\u001B[0m\u001B[0margs\u001B[0m\u001B[0;34m[\u001B[0m\u001B[0;36m0\u001B[0m\u001B[0;34m]\u001B[0m \u001B[0;34m==\u001B[0m \u001B[0mSSL_ERROR_EOF\u001B[0m \u001B[0;32mand\u001B[0m \u001B[0mself\u001B[0m\u001B[0;34m.\u001B[0m\u001B[0msuppress_ragged_eofs\u001B[0m\u001B[0;34m:\u001B[0m\u001B[0;34m\u001B[0m\u001B[0;34m\u001B[0m\u001B[0m\n",
      "\u001B[0;31mKeyboardInterrupt\u001B[0m: "
     ]
    }
   ],
   "source": [
    "translated_names = funcs.translate_food_names(df)"
   ],
   "metadata": {
    "collapsed": false,
    "ExecuteTime": {
     "end_time": "2023-05-09T12:40:56.103880Z",
     "start_time": "2023-05-09T12:40:53.260814Z"
    }
   }
  },
  {
   "cell_type": "code",
   "execution_count": null,
   "outputs": [],
   "source": [
    "# todo:         LIMITATION: translate errors. e.g. Diskborste -> disk brush"
   ],
   "metadata": {
    "collapsed": false
   }
  },
  {
   "cell_type": "code",
   "execution_count": 9,
   "outputs": [],
   "source": [
    "# translated_names = pd.read_csv('translated_names_2.csv')"
   ],
   "metadata": {
    "collapsed": false,
    "ExecuteTime": {
     "end_time": "2023-05-08T15:13:11.766792Z",
     "start_time": "2023-05-08T15:13:11.759048Z"
    }
   }
  },
  {
   "cell_type": "code",
   "execution_count": 233,
   "outputs": [
    {
     "ename": "KeyError",
     "evalue": "\"['Unnamed: 0'] not found in axis\"",
     "output_type": "error",
     "traceback": [
      "\u001B[0;31m---------------------------------------------------------------------------\u001B[0m",
      "\u001B[0;31mKeyError\u001B[0m                                  Traceback (most recent call last)",
      "\u001B[0;32m/var/folders/dy/x6z2mb456s9dvq77dv75k9xr0000gn/T/ipykernel_60183/556377996.py\u001B[0m in \u001B[0;36m<module>\u001B[0;34m\u001B[0m\n\u001B[0;32m----> 1\u001B[0;31m \u001B[0mtranslated_names\u001B[0m\u001B[0;34m.\u001B[0m\u001B[0mdrop\u001B[0m\u001B[0;34m(\u001B[0m\u001B[0;34m'Unnamed: 0'\u001B[0m\u001B[0;34m,\u001B[0m \u001B[0maxis\u001B[0m\u001B[0;34m=\u001B[0m\u001B[0;36m1\u001B[0m\u001B[0;34m,\u001B[0m \u001B[0minplace\u001B[0m\u001B[0;34m=\u001B[0m\u001B[0;32mTrue\u001B[0m\u001B[0;34m)\u001B[0m\u001B[0;34m\u001B[0m\u001B[0;34m\u001B[0m\u001B[0m\n\u001B[0m",
      "\u001B[0;32m~/opt/anaconda3/lib/python3.9/site-packages/pandas/core/frame.py\u001B[0m in \u001B[0;36mdrop\u001B[0;34m(self, labels, axis, index, columns, level, inplace, errors)\u001B[0m\n\u001B[1;32m   5266\u001B[0m                 \u001B[0mweight\u001B[0m  \u001B[0;36m1.0\u001B[0m     \u001B[0;36m0.8\u001B[0m\u001B[0;34m\u001B[0m\u001B[0;34m\u001B[0m\u001B[0m\n\u001B[1;32m   5267\u001B[0m         \"\"\"\n\u001B[0;32m-> 5268\u001B[0;31m         return super().drop(\n\u001B[0m\u001B[1;32m   5269\u001B[0m             \u001B[0mlabels\u001B[0m\u001B[0;34m=\u001B[0m\u001B[0mlabels\u001B[0m\u001B[0;34m,\u001B[0m\u001B[0;34m\u001B[0m\u001B[0;34m\u001B[0m\u001B[0m\n\u001B[1;32m   5270\u001B[0m             \u001B[0maxis\u001B[0m\u001B[0;34m=\u001B[0m\u001B[0maxis\u001B[0m\u001B[0;34m,\u001B[0m\u001B[0;34m\u001B[0m\u001B[0;34m\u001B[0m\u001B[0m\n",
      "\u001B[0;32m~/opt/anaconda3/lib/python3.9/site-packages/pandas/core/generic.py\u001B[0m in \u001B[0;36mdrop\u001B[0;34m(self, labels, axis, index, columns, level, inplace, errors)\u001B[0m\n\u001B[1;32m   4547\u001B[0m         \u001B[0;32mfor\u001B[0m \u001B[0maxis\u001B[0m\u001B[0;34m,\u001B[0m \u001B[0mlabels\u001B[0m \u001B[0;32min\u001B[0m \u001B[0maxes\u001B[0m\u001B[0;34m.\u001B[0m\u001B[0mitems\u001B[0m\u001B[0;34m(\u001B[0m\u001B[0;34m)\u001B[0m\u001B[0;34m:\u001B[0m\u001B[0;34m\u001B[0m\u001B[0;34m\u001B[0m\u001B[0m\n\u001B[1;32m   4548\u001B[0m             \u001B[0;32mif\u001B[0m \u001B[0mlabels\u001B[0m \u001B[0;32mis\u001B[0m \u001B[0;32mnot\u001B[0m \u001B[0;32mNone\u001B[0m\u001B[0;34m:\u001B[0m\u001B[0;34m\u001B[0m\u001B[0;34m\u001B[0m\u001B[0m\n\u001B[0;32m-> 4549\u001B[0;31m                 \u001B[0mobj\u001B[0m \u001B[0;34m=\u001B[0m \u001B[0mobj\u001B[0m\u001B[0;34m.\u001B[0m\u001B[0m_drop_axis\u001B[0m\u001B[0;34m(\u001B[0m\u001B[0mlabels\u001B[0m\u001B[0;34m,\u001B[0m \u001B[0maxis\u001B[0m\u001B[0;34m,\u001B[0m \u001B[0mlevel\u001B[0m\u001B[0;34m=\u001B[0m\u001B[0mlevel\u001B[0m\u001B[0;34m,\u001B[0m \u001B[0merrors\u001B[0m\u001B[0;34m=\u001B[0m\u001B[0merrors\u001B[0m\u001B[0;34m)\u001B[0m\u001B[0;34m\u001B[0m\u001B[0;34m\u001B[0m\u001B[0m\n\u001B[0m\u001B[1;32m   4550\u001B[0m \u001B[0;34m\u001B[0m\u001B[0m\n\u001B[1;32m   4551\u001B[0m         \u001B[0;32mif\u001B[0m \u001B[0minplace\u001B[0m\u001B[0;34m:\u001B[0m\u001B[0;34m\u001B[0m\u001B[0;34m\u001B[0m\u001B[0m\n",
      "\u001B[0;32m~/opt/anaconda3/lib/python3.9/site-packages/pandas/core/generic.py\u001B[0m in \u001B[0;36m_drop_axis\u001B[0;34m(self, labels, axis, level, errors, only_slice)\u001B[0m\n\u001B[1;32m   4589\u001B[0m                 \u001B[0mnew_axis\u001B[0m \u001B[0;34m=\u001B[0m \u001B[0maxis\u001B[0m\u001B[0;34m.\u001B[0m\u001B[0mdrop\u001B[0m\u001B[0;34m(\u001B[0m\u001B[0mlabels\u001B[0m\u001B[0;34m,\u001B[0m \u001B[0mlevel\u001B[0m\u001B[0;34m=\u001B[0m\u001B[0mlevel\u001B[0m\u001B[0;34m,\u001B[0m \u001B[0merrors\u001B[0m\u001B[0;34m=\u001B[0m\u001B[0merrors\u001B[0m\u001B[0;34m)\u001B[0m\u001B[0;34m\u001B[0m\u001B[0;34m\u001B[0m\u001B[0m\n\u001B[1;32m   4590\u001B[0m             \u001B[0;32melse\u001B[0m\u001B[0;34m:\u001B[0m\u001B[0;34m\u001B[0m\u001B[0;34m\u001B[0m\u001B[0m\n\u001B[0;32m-> 4591\u001B[0;31m                 \u001B[0mnew_axis\u001B[0m \u001B[0;34m=\u001B[0m \u001B[0maxis\u001B[0m\u001B[0;34m.\u001B[0m\u001B[0mdrop\u001B[0m\u001B[0;34m(\u001B[0m\u001B[0mlabels\u001B[0m\u001B[0;34m,\u001B[0m \u001B[0merrors\u001B[0m\u001B[0;34m=\u001B[0m\u001B[0merrors\u001B[0m\u001B[0;34m)\u001B[0m\u001B[0;34m\u001B[0m\u001B[0;34m\u001B[0m\u001B[0m\n\u001B[0m\u001B[1;32m   4592\u001B[0m             \u001B[0mindexer\u001B[0m \u001B[0;34m=\u001B[0m \u001B[0maxis\u001B[0m\u001B[0;34m.\u001B[0m\u001B[0mget_indexer\u001B[0m\u001B[0;34m(\u001B[0m\u001B[0mnew_axis\u001B[0m\u001B[0;34m)\u001B[0m\u001B[0;34m\u001B[0m\u001B[0;34m\u001B[0m\u001B[0m\n\u001B[1;32m   4593\u001B[0m \u001B[0;34m\u001B[0m\u001B[0m\n",
      "\u001B[0;32m~/opt/anaconda3/lib/python3.9/site-packages/pandas/core/indexes/base.py\u001B[0m in \u001B[0;36mdrop\u001B[0;34m(self, labels, errors)\u001B[0m\n\u001B[1;32m   6694\u001B[0m         \u001B[0;32mif\u001B[0m \u001B[0mmask\u001B[0m\u001B[0;34m.\u001B[0m\u001B[0many\u001B[0m\u001B[0;34m(\u001B[0m\u001B[0;34m)\u001B[0m\u001B[0;34m:\u001B[0m\u001B[0;34m\u001B[0m\u001B[0;34m\u001B[0m\u001B[0m\n\u001B[1;32m   6695\u001B[0m             \u001B[0;32mif\u001B[0m \u001B[0merrors\u001B[0m \u001B[0;34m!=\u001B[0m \u001B[0;34m\"ignore\"\u001B[0m\u001B[0;34m:\u001B[0m\u001B[0;34m\u001B[0m\u001B[0;34m\u001B[0m\u001B[0m\n\u001B[0;32m-> 6696\u001B[0;31m                 \u001B[0;32mraise\u001B[0m \u001B[0mKeyError\u001B[0m\u001B[0;34m(\u001B[0m\u001B[0;34mf\"{list(labels[mask])} not found in axis\"\u001B[0m\u001B[0;34m)\u001B[0m\u001B[0;34m\u001B[0m\u001B[0;34m\u001B[0m\u001B[0m\n\u001B[0m\u001B[1;32m   6697\u001B[0m             \u001B[0mindexer\u001B[0m \u001B[0;34m=\u001B[0m \u001B[0mindexer\u001B[0m\u001B[0;34m[\u001B[0m\u001B[0;34m~\u001B[0m\u001B[0mmask\u001B[0m\u001B[0;34m]\u001B[0m\u001B[0;34m\u001B[0m\u001B[0;34m\u001B[0m\u001B[0m\n\u001B[1;32m   6698\u001B[0m         \u001B[0;32mreturn\u001B[0m \u001B[0mself\u001B[0m\u001B[0;34m.\u001B[0m\u001B[0mdelete\u001B[0m\u001B[0;34m(\u001B[0m\u001B[0mindexer\u001B[0m\u001B[0;34m)\u001B[0m\u001B[0;34m\u001B[0m\u001B[0;34m\u001B[0m\u001B[0m\n",
      "\u001B[0;31mKeyError\u001B[0m: \"['Unnamed: 0'] not found in axis\""
     ]
    }
   ],
   "source": [
    "translated_names.drop('Unnamed: 0', axis=1, inplace=True)"
   ],
   "metadata": {
    "collapsed": false,
    "ExecuteTime": {
     "end_time": "2023-05-09T12:40:57.882978Z",
     "start_time": "2023-05-09T12:40:57.869448Z"
    }
   }
  },
  {
   "cell_type": "markdown",
   "source": [
    "## Recipes API - spoonacular API (input ingredients, output recipes\n",
    "\n",
    "Check recipes based on ingredients\n",
    "\n",
    "https://spoonacular.com/food-api"
   ],
   "metadata": {
    "collapsed": false
   }
  },
  {
   "cell_type": "code",
   "execution_count": 234,
   "outputs": [],
   "source": [
    "# Reading spoonacular ingredients list csv\n",
    "accepted_ingredients = pd.read_csv('ingredients.csv')"
   ],
   "metadata": {
    "collapsed": false,
    "ExecuteTime": {
     "end_time": "2023-05-09T12:41:03.359684Z",
     "start_time": "2023-05-09T12:41:03.333467Z"
    }
   }
  },
  {
   "cell_type": "markdown",
   "source": [
    "### Data Cleaning"
   ],
   "metadata": {
    "collapsed": false
   }
  },
  {
   "cell_type": "code",
   "execution_count": 235,
   "outputs": [],
   "source": [
    "# Split all rows at ;, and expand=True means split into different columns\n",
    "# Assign to new column names\n",
    "accepted_ingredients[['Ingredient', 'Ingredient ID']] = accepted_ingredients['ingredient;ingredientId'].str.split(';', expand=True)"
   ],
   "metadata": {
    "collapsed": false,
    "ExecuteTime": {
     "end_time": "2023-05-09T12:41:04.949601Z",
     "start_time": "2023-05-09T12:41:04.937299Z"
    }
   }
  },
  {
   "cell_type": "code",
   "execution_count": 236,
   "outputs": [],
   "source": [
    "# Dropping old column\n",
    "accepted_ingredients.drop('ingredient;ingredientId', axis=1, inplace=True)\n",
    "# Renaming column\n",
    "translated_names.rename(columns={'0':'Ingredient'}, inplace=True)\n",
    "# Lower case everything for case insensitivity\n",
    "translated_names = translated_names.Ingredient.str.lower()\n",
    "# Convert into DataFrame to access some df methods later on\n",
    "translated_names = pd.DataFrame(translated_names)"
   ],
   "metadata": {
    "collapsed": false,
    "ExecuteTime": {
     "end_time": "2023-05-09T12:41:05.866351Z",
     "start_time": "2023-05-09T12:41:05.847581Z"
    }
   }
  },
  {
   "cell_type": "code",
   "execution_count": 237,
   "outputs": [],
   "source": [
    "# Check for accepted ingredients\n",
    "parsed_ingredients = funcs.parse_ingredients(translated_names, accepted_ingredients)"
   ],
   "metadata": {
    "collapsed": false,
    "ExecuteTime": {
     "end_time": "2023-05-09T12:41:07.674838Z",
     "start_time": "2023-05-09T12:41:06.555210Z"
    }
   }
  },
  {
   "cell_type": "code",
   "execution_count": 238,
   "outputs": [
    {
     "data": {
      "text/plain": "190"
     },
     "execution_count": 238,
     "metadata": {},
     "output_type": "execute_result"
    }
   ],
   "source": [
    "len(parsed_ingredients)\n",
    "# todo:         LIMITATION: e.g. bacon will be extracted from bacon-snacks"
   ],
   "metadata": {
    "collapsed": false,
    "ExecuteTime": {
     "end_time": "2023-05-09T12:41:08.808026Z",
     "start_time": "2023-05-09T12:41:08.798653Z"
    }
   }
  },
  {
   "cell_type": "markdown",
   "source": [
    "### Input parsed_ingredients into Spoonacular recipes API to get a list of recipes"
   ],
   "metadata": {
    "collapsed": false
   }
  },
  {
   "cell_type": "code",
   "execution_count": 18,
   "outputs": [],
   "source": [
    "api_key = '43f7682fd91f42c0b2b3c32a83f6f634'"
   ],
   "metadata": {
    "collapsed": false,
    "ExecuteTime": {
     "end_time": "2023-05-08T15:28:31.323860Z",
     "start_time": "2023-05-08T15:28:31.317473Z"
    }
   }
  },
  {
   "cell_type": "code",
   "execution_count": 21,
   "outputs": [],
   "source": [
    "# spoonacular input is ingredient1,ingredient2,ingredient3...\n",
    "ingredients = ','.join(parsed_ingredients)"
   ],
   "metadata": {
    "collapsed": false,
    "ExecuteTime": {
     "end_time": "2023-05-08T15:28:33.333126Z",
     "start_time": "2023-05-08T15:28:33.326485Z"
    }
   }
  },
  {
   "cell_type": "code",
   "execution_count": 63,
   "outputs": [
    {
     "data": {
      "text/plain": "'salt,butter,sugar,water,flour,garlic,eggs,onion,milk,pepper,egg,honey,cream cheese,chicken,sour cream,vanilla,sea salt,powdered sugar,bacon,tomatoes,oil,chicken broth,chocolate,beef,zucchini,strawberries,potatoes,fish,tomato,avocado,lemon,shrimp,mushrooms,blueberries,bread,cucumber,banana,coconut,pasta,apple,peas,rice,broccoli,cream,basil,cooking oil,ham,lime,ice,coconut milk,mango,mint,cookies,whipped cream,vanilla ice cream,olives,salted butter,pumpkin,beer,corn,potato,yogurt,salmon,fruit,cheese,dark chocolate,ice cream,black beans,arugula,spaghetti,tofu,prosciutto,tortilla chips,sausage,cocoa,pesto,chili sauce,berries,baguette,pear,watermelon,tomato puree,mushroom,chili,parmigiano reggiano,cheddar,vegan cheese,juice,almond,herbs,meat,mozzarella,pizza dough,egg noodles,pumpkin seeds,sage,tea,lemongrass,saffron,sunflower oil,noodles,chorizo,couscous,green olives,tomato soup,cookie,gin,stock,broth,steak,grapes,strawberry,seeds,salmon fillet,popcorn,vegetable,jam,tuna,vanilla yogurt,tamari,toast,salami,ricotta,meatballs,beet,cod,jasmine rice,strawberry jam,kidney beans,berry,kiwi,olive,port,raspberry,sweet chili sauce,espresso,beetroot,rub,gnocchi,blueberry,hing,dog,cornflakes,spice mix,beans,pea protein,noodle,long-grain rice,gouda,fries,natural yogurt,plum,sesame,caviar,cola,tortilla,brioche,rapeseed oil,potato salad,ciabatta,grape,cod fillet,snickers,hazelnut,marzipan,nut mix,fusilli,patis,bratwurst,buns,alcohol,salad,meatball,muesli,carbonated water,passion fruit,soybeans,halloumi,fresh pasta,shirataki noodles,swede,bolognese,seafood,kidney,melon,brat,green olive,soft cheese,boar,fish sticks'"
     },
     "execution_count": 63,
     "metadata": {},
     "output_type": "execute_result"
    }
   ],
   "source": [
    "ingredients"
   ],
   "metadata": {
    "collapsed": false,
    "ExecuteTime": {
     "end_time": "2023-05-08T16:19:09.296465Z",
     "start_time": "2023-05-08T16:19:09.288789Z"
    }
   }
  },
  {
   "cell_type": "code",
   "execution_count": 28,
   "outputs": [],
   "source": [
    "url = f'https://api.spoonacular.com/recipes/findByIngredients?apiKey={api_key}&ingredients={ingredients}'"
   ],
   "metadata": {
    "collapsed": false,
    "ExecuteTime": {
     "end_time": "2023-05-08T15:40:25.974642Z",
     "start_time": "2023-05-08T15:40:25.966617Z"
    }
   }
  },
  {
   "cell_type": "code",
   "execution_count": 29,
   "outputs": [],
   "source": [
    "spoonacular = requests.get(url)"
   ],
   "metadata": {
    "collapsed": false,
    "ExecuteTime": {
     "end_time": "2023-05-08T15:40:28.804223Z",
     "start_time": "2023-05-08T15:40:26.266590Z"
    }
   }
  },
  {
   "cell_type": "code",
   "execution_count": 31,
   "outputs": [
    {
     "data": {
      "text/plain": "<Response [200]>"
     },
     "execution_count": 31,
     "metadata": {},
     "output_type": "execute_result"
    }
   ],
   "source": [
    "spoonacular"
   ],
   "metadata": {
    "collapsed": false,
    "ExecuteTime": {
     "end_time": "2023-05-08T15:40:32.023034Z",
     "start_time": "2023-05-08T15:40:32.014597Z"
    }
   }
  },
  {
   "cell_type": "code",
   "execution_count": 35,
   "outputs": [],
   "source": [
    "recipes_df = pd.DataFrame(spoonacular.json()).sort_values(by='likes', ascending=False)"
   ],
   "metadata": {
    "collapsed": false,
    "ExecuteTime": {
     "end_time": "2023-05-08T15:48:48.605568Z",
     "start_time": "2023-05-08T15:48:48.601814Z"
    }
   }
  },
  {
   "cell_type": "markdown",
   "source": [
    "### Get ingredient list for each recipe"
   ],
   "metadata": {
    "collapsed": false
   }
  },
  {
   "cell_type": "code",
   "execution_count": 187,
   "outputs": [
    {
     "data": {
      "text/plain": "        id                                              title   \n9   715560                  World’s Greatest Lasagna Roll Ups  \\\n7   664087        Turkish Baharat Meatballs with Lentil Pilaf   \n0   631747                                  Dutch Oven Paella   \n4   982376                      Chicken Noodle Casserole Dish   \n3   654327  Paella for Four; A Wonderful Spanish Mixed Sea...   \n5   652134                                       Mixed Paella   \n8  1054737  How to make the World’s Greatest Lasagna Roll Ups   \n1   634582                 Beef and Vegetable Penne Casserole   \n2   651342                                      Meatball Subs   \n6   651965  Mini Meatball & Ravioli Soup With Garlic Croutons   \n\n                                               image imageType   \n9  https://spoonacular.com/recipeImages/715560-31...       jpg  \\\n7  https://spoonacular.com/recipeImages/664087-31...       jpg   \n0  https://spoonacular.com/recipeImages/631747-31...       jpg   \n4  https://spoonacular.com/recipeImages/982376-31...       jpg   \n3  https://spoonacular.com/recipeImages/654327-31...       jpg   \n5  https://spoonacular.com/recipeImages/652134-31...       jpg   \n8  https://spoonacular.com/recipeImages/1054737-3...       jpg   \n1  https://spoonacular.com/recipeImages/634582-31...       jpg   \n2  https://spoonacular.com/recipeImages/651342-31...       jpg   \n6  https://spoonacular.com/recipeImages/651965-31...       jpg   \n\n   usedIngredientCount  missedIngredientCount   \n9                   10                      4  \\\n7                   12                      7   \n0                   13                      3   \n4                   12                      3   \n3                   12                      2   \n5                   12                      5   \n8                   11                      4   \n1                   13                      4   \n2                   13                      4   \n6                   12                      5   \n\n                                   missedIngredients   \n9  [{'id': 11549, 'amount': 8.0, 'unit': 'oz', 'u...  \\\n7  [{'id': 1002014, 'amount': 0.5, 'unit': 'tsp',...   \n0  [{'id': 14106, 'amount': 0.33333334, 'unit': '...   \n4  [{'id': 11124, 'amount': 1.0, 'unit': 'c', 'un...   \n3  [{'id': 2027, 'amount': 2.0, 'unit': 't', 'uni...   \n5  [{'id': 2004, 'amount': 1.0, 'unit': '', 'unit...   \n8  [{'id': 11549, 'amount': 16.0, 'unit': 'oz', '...   \n1  [{'id': 2025, 'amount': 1.0, 'unit': 'teaspoon...   \n2  [{'id': 1032009, 'amount': 0.5, 'unit': 'teasp...   \n6  [{'id': 2004, 'amount': 1.0, 'unit': '', 'unit...   \n\n                                     usedIngredients   \n9  [{'id': 1123, 'amount': 1.0, 'unit': '', 'unit...  \\\n7  [{'id': 10123, 'amount': 1.0, 'unit': '', 'uni...   \n0  [{'id': 15270, 'amount': 1.0, 'unit': 'lb', 'u...   \n4  [{'id': 10028033, 'amount': 0.5, 'unit': 'c', ...   \n3  [{'id': 10211821, 'amount': 1.0, 'unit': 'T', ...   \n5  [{'id': 6194, 'amount': 1.0, 'unit': 'quart', ...   \n8  [{'id': 1123, 'amount': 1.0, 'unit': '', 'unit...   \n1  [{'id': 2044, 'amount': 15.0, 'unit': 'leaves'...   \n2  [{'id': 10023567, 'amount': 1.5, 'unit': 'poun...   \n6  [{'id': 23567, 'amount': 1.0, 'unit': 'pound',...   \n\n                                   unusedIngredients  likes  \n9  [{'id': 1001, 'amount': 1.0, 'unit': 'serving'...  32767  \n7  [{'id': 1001, 'amount': 1.0, 'unit': 'serving'...      7  \n0  [{'id': 1001, 'amount': 1.0, 'unit': 'serving'...      6  \n4  [{'id': 11215, 'amount': 1.0, 'unit': 'serving...      5  \n3  [{'id': 1001, 'amount': 1.0, 'unit': 'serving'...      3  \n5  [{'id': 1001, 'amount': 1.0, 'unit': 'serving'...      2  \n8  [{'id': 1001, 'amount': 1.0, 'unit': 'serving'...      2  \n1  [{'id': 1001, 'amount': 1.0, 'unit': 'serving'...      1  \n2  [{'id': 1001, 'amount': 1.0, 'unit': 'serving'...      1  \n6  [{'id': 1077, 'amount': 1.0, 'unit': 'serving'...      1  ",
      "text/html": "<div>\n<style scoped>\n    .dataframe tbody tr th:only-of-type {\n        vertical-align: middle;\n    }\n\n    .dataframe tbody tr th {\n        vertical-align: top;\n    }\n\n    .dataframe thead th {\n        text-align: right;\n    }\n</style>\n<table border=\"1\" class=\"dataframe\">\n  <thead>\n    <tr style=\"text-align: right;\">\n      <th></th>\n      <th>id</th>\n      <th>title</th>\n      <th>image</th>\n      <th>imageType</th>\n      <th>usedIngredientCount</th>\n      <th>missedIngredientCount</th>\n      <th>missedIngredients</th>\n      <th>usedIngredients</th>\n      <th>unusedIngredients</th>\n      <th>likes</th>\n    </tr>\n  </thead>\n  <tbody>\n    <tr>\n      <th>9</th>\n      <td>715560</td>\n      <td>World’s Greatest Lasagna Roll Ups</td>\n      <td>https://spoonacular.com/recipeImages/715560-31...</td>\n      <td>jpg</td>\n      <td>10</td>\n      <td>4</td>\n      <td>[{'id': 11549, 'amount': 8.0, 'unit': 'oz', 'u...</td>\n      <td>[{'id': 1123, 'amount': 1.0, 'unit': '', 'unit...</td>\n      <td>[{'id': 1001, 'amount': 1.0, 'unit': 'serving'...</td>\n      <td>32767</td>\n    </tr>\n    <tr>\n      <th>7</th>\n      <td>664087</td>\n      <td>Turkish Baharat Meatballs with Lentil Pilaf</td>\n      <td>https://spoonacular.com/recipeImages/664087-31...</td>\n      <td>jpg</td>\n      <td>12</td>\n      <td>7</td>\n      <td>[{'id': 1002014, 'amount': 0.5, 'unit': 'tsp',...</td>\n      <td>[{'id': 10123, 'amount': 1.0, 'unit': '', 'uni...</td>\n      <td>[{'id': 1001, 'amount': 1.0, 'unit': 'serving'...</td>\n      <td>7</td>\n    </tr>\n    <tr>\n      <th>0</th>\n      <td>631747</td>\n      <td>Dutch Oven Paella</td>\n      <td>https://spoonacular.com/recipeImages/631747-31...</td>\n      <td>jpg</td>\n      <td>13</td>\n      <td>3</td>\n      <td>[{'id': 14106, 'amount': 0.33333334, 'unit': '...</td>\n      <td>[{'id': 15270, 'amount': 1.0, 'unit': 'lb', 'u...</td>\n      <td>[{'id': 1001, 'amount': 1.0, 'unit': 'serving'...</td>\n      <td>6</td>\n    </tr>\n    <tr>\n      <th>4</th>\n      <td>982376</td>\n      <td>Chicken Noodle Casserole Dish</td>\n      <td>https://spoonacular.com/recipeImages/982376-31...</td>\n      <td>jpg</td>\n      <td>12</td>\n      <td>3</td>\n      <td>[{'id': 11124, 'amount': 1.0, 'unit': 'c', 'un...</td>\n      <td>[{'id': 10028033, 'amount': 0.5, 'unit': 'c', ...</td>\n      <td>[{'id': 11215, 'amount': 1.0, 'unit': 'serving...</td>\n      <td>5</td>\n    </tr>\n    <tr>\n      <th>3</th>\n      <td>654327</td>\n      <td>Paella for Four; A Wonderful Spanish Mixed Sea...</td>\n      <td>https://spoonacular.com/recipeImages/654327-31...</td>\n      <td>jpg</td>\n      <td>12</td>\n      <td>2</td>\n      <td>[{'id': 2027, 'amount': 2.0, 'unit': 't', 'uni...</td>\n      <td>[{'id': 10211821, 'amount': 1.0, 'unit': 'T', ...</td>\n      <td>[{'id': 1001, 'amount': 1.0, 'unit': 'serving'...</td>\n      <td>3</td>\n    </tr>\n    <tr>\n      <th>5</th>\n      <td>652134</td>\n      <td>Mixed Paella</td>\n      <td>https://spoonacular.com/recipeImages/652134-31...</td>\n      <td>jpg</td>\n      <td>12</td>\n      <td>5</td>\n      <td>[{'id': 2004, 'amount': 1.0, 'unit': '', 'unit...</td>\n      <td>[{'id': 6194, 'amount': 1.0, 'unit': 'quart', ...</td>\n      <td>[{'id': 1001, 'amount': 1.0, 'unit': 'serving'...</td>\n      <td>2</td>\n    </tr>\n    <tr>\n      <th>8</th>\n      <td>1054737</td>\n      <td>How to make the World’s Greatest Lasagna Roll Ups</td>\n      <td>https://spoonacular.com/recipeImages/1054737-3...</td>\n      <td>jpg</td>\n      <td>11</td>\n      <td>4</td>\n      <td>[{'id': 11549, 'amount': 16.0, 'unit': 'oz', '...</td>\n      <td>[{'id': 1123, 'amount': 1.0, 'unit': '', 'unit...</td>\n      <td>[{'id': 1001, 'amount': 1.0, 'unit': 'serving'...</td>\n      <td>2</td>\n    </tr>\n    <tr>\n      <th>1</th>\n      <td>634582</td>\n      <td>Beef and Vegetable Penne Casserole</td>\n      <td>https://spoonacular.com/recipeImages/634582-31...</td>\n      <td>jpg</td>\n      <td>13</td>\n      <td>4</td>\n      <td>[{'id': 2025, 'amount': 1.0, 'unit': 'teaspoon...</td>\n      <td>[{'id': 2044, 'amount': 15.0, 'unit': 'leaves'...</td>\n      <td>[{'id': 1001, 'amount': 1.0, 'unit': 'serving'...</td>\n      <td>1</td>\n    </tr>\n    <tr>\n      <th>2</th>\n      <td>651342</td>\n      <td>Meatball Subs</td>\n      <td>https://spoonacular.com/recipeImages/651342-31...</td>\n      <td>jpg</td>\n      <td>13</td>\n      <td>4</td>\n      <td>[{'id': 1032009, 'amount': 0.5, 'unit': 'teasp...</td>\n      <td>[{'id': 10023567, 'amount': 1.5, 'unit': 'poun...</td>\n      <td>[{'id': 1001, 'amount': 1.0, 'unit': 'serving'...</td>\n      <td>1</td>\n    </tr>\n    <tr>\n      <th>6</th>\n      <td>651965</td>\n      <td>Mini Meatball &amp; Ravioli Soup With Garlic Croutons</td>\n      <td>https://spoonacular.com/recipeImages/651965-31...</td>\n      <td>jpg</td>\n      <td>12</td>\n      <td>5</td>\n      <td>[{'id': 2004, 'amount': 1.0, 'unit': '', 'unit...</td>\n      <td>[{'id': 23567, 'amount': 1.0, 'unit': 'pound',...</td>\n      <td>[{'id': 1077, 'amount': 1.0, 'unit': 'serving'...</td>\n      <td>1</td>\n    </tr>\n  </tbody>\n</table>\n</div>"
     },
     "execution_count": 187,
     "metadata": {},
     "output_type": "execute_result"
    }
   ],
   "source": [
    "recipes_df"
   ],
   "metadata": {
    "collapsed": false,
    "ExecuteTime": {
     "end_time": "2023-05-09T08:06:06.005808Z",
     "start_time": "2023-05-09T08:06:05.663242Z"
    }
   }
  },
  {
   "cell_type": "code",
   "execution_count": 212,
   "outputs": [
    {
     "name": "stdout",
     "output_type": "stream",
     "text": [
      "Used ingredients list:\n",
      "\n",
      "1 egg\n",
      "1 (15 oz) can diced tomatoes (I use flavored fire roasted with basil)\n",
      "2 cloves garlic (minced)\n",
      "1 pound Italian Sausage\n",
      "Uncooked Lasagna noodles\n",
      "1 pound Lean Ground Beef (I like 93/7)\n",
      "sliced mozzarella cheese\n",
      "½ cup chopped onion\n",
      "¾ cup grated parmesan reggiano\n",
      "(16 oz) ricotta cheese\n"
     ]
    }
   ],
   "source": [
    "print('Used ingredients list:\\n')\n",
    "for i, item in enumerate(recipes_df.usedIngredients):\n",
    "    print(recipes_df.usedIngredients[9][i]['original'])"
   ],
   "metadata": {
    "collapsed": false,
    "ExecuteTime": {
     "end_time": "2023-05-09T12:05:02.171992Z",
     "start_time": "2023-05-09T12:05:02.164081Z"
    }
   }
  },
  {
   "cell_type": "markdown",
   "source": [
    "### Fetch recipes using recipe ID"
   ],
   "metadata": {
    "collapsed": false
   }
  },
  {
   "cell_type": "code",
   "execution_count": 88,
   "outputs": [],
   "source": [
    "# Recipe IDs separated by commas\n",
    "recipe_ids = ','.join([str(x) for x in recipes_df.id.to_list()])"
   ],
   "metadata": {
    "collapsed": false,
    "ExecuteTime": {
     "end_time": "2023-05-08T19:55:50.670741Z",
     "start_time": "2023-05-08T19:55:50.667817Z"
    }
   }
  },
  {
   "cell_type": "code",
   "execution_count": 91,
   "outputs": [],
   "source": [
    "url_recipes = f'https://api.spoonacular.com/recipes/informationBulk?apiKey={api_key}&ids={recipe_ids}'"
   ],
   "metadata": {
    "collapsed": false,
    "ExecuteTime": {
     "end_time": "2023-05-08T20:00:50.226207Z",
     "start_time": "2023-05-08T20:00:50.215807Z"
    }
   }
  },
  {
   "cell_type": "code",
   "execution_count": 92,
   "outputs": [],
   "source": [
    "spoonacular_recipes = requests.get(url_recipes)"
   ],
   "metadata": {
    "collapsed": false,
    "ExecuteTime": {
     "end_time": "2023-05-08T20:01:15.079122Z",
     "start_time": "2023-05-08T20:00:51.660474Z"
    }
   }
  },
  {
   "cell_type": "code",
   "execution_count": 154,
   "outputs": [],
   "source": [
    "recipe_list = pd.DataFrame(spoonacular_recipes.json())"
   ],
   "metadata": {
    "collapsed": false,
    "ExecuteTime": {
     "end_time": "2023-05-09T07:57:35.410838Z",
     "start_time": "2023-05-09T07:57:35.406978Z"
    }
   }
  },
  {
   "cell_type": "code",
   "execution_count": null,
   "outputs": [],
   "source": [],
   "metadata": {
    "collapsed": false
   }
  },
  {
   "cell_type": "code",
   "execution_count": null,
   "outputs": [],
   "source": [],
   "metadata": {
    "collapsed": false
   }
  },
  {
   "cell_type": "code",
   "execution_count": null,
   "outputs": [],
   "source": [],
   "metadata": {
    "collapsed": false
   }
  },
  {
   "cell_type": "code",
   "execution_count": 191,
   "outputs": [],
   "source": [
    "required_ingredients = []\n",
    "required_ingredients_amount = []\n",
    "for i, e in enumerate(recipe_list.extendedIngredients):\n",
    "    required_ingredients.append(recipe_list.extendedIngredients[0][i]['name'])\n",
    "    required_ingredients_amount.append(recipe_list.extendedIngredients[0][i]['amount'])\n",
    "    required_ingredients"
   ],
   "metadata": {
    "collapsed": false,
    "ExecuteTime": {
     "end_time": "2023-05-09T08:08:40.369039Z",
     "start_time": "2023-05-09T08:08:40.362337Z"
    }
   }
  },
  {
   "cell_type": "code",
   "execution_count": null,
   "outputs": [],
   "source": [
    "# todo: match with deal data to get x amount to buy, price"
   ],
   "metadata": {
    "collapsed": false
   }
  },
  {
   "cell_type": "markdown",
   "source": [
    "## Desired output\n",
    "- ✅Output recipes, with what ingredients you need to get and how many\n",
    "\n",
    "- Display discounted price\n",
    "- Display original prices\n",
    "\n",
    "- Display leftover ingredients\n",
    "- (optional) display price of leftover ingredients\n",
    "\n",
    "- Subtract that with the used ingredients and get the actual price for the recipe"
   ],
   "metadata": {
    "collapsed": false
   }
  },
  {
   "cell_type": "code",
   "execution_count": 181,
   "outputs": [],
   "source": [
    "    df['Name'] = translated_names"
   ],
   "metadata": {
    "collapsed": false,
    "ExecuteTime": {
     "end_time": "2023-05-09T08:03:19.695241Z",
     "start_time": "2023-05-09T08:03:19.692988Z"
    }
   }
  },
  {
   "cell_type": "code",
   "execution_count": 184,
   "outputs": [],
   "source": [
    "df.drop(columns='name', inplace=True)"
   ],
   "metadata": {
    "collapsed": false,
    "ExecuteTime": {
     "end_time": "2023-05-09T08:03:38.067616Z",
     "start_time": "2023-05-09T08:03:38.063400Z"
    }
   }
  },
  {
   "cell_type": "code",
   "execution_count": 239,
   "outputs": [
    {
     "data": {
      "text/plain": "                                        Name  Price  Original Price   \n0                          Bacon Rökt&skivat  10.00           14.95  \\\n1                        Kyckling Filé Fryst  59.00           69.95   \n2                                Levain Vete  25.00           39.95   \n3           Normalsaltat Smör & Rapsolja 75%  49.00           59.95   \n4                       Druvor Gröna Klass 1  20.00           39.95   \n..                                       ...    ...             ...   \n292  Vegetarisk Bredbar Pastej av Ärtprotein  18.95             NaN   \n293                 Citron Såpa Allrengöring  22.50             NaN   \n294                Krögarpytt Klassisk Fryst  48.95             NaN   \n295           Fiber Formbröd Glutenfri Fryst  36.95             NaN   \n296                     Falu Rågrut Original  13.95             NaN   \n\n    Original compare price Discounted compare price         Brand Weight  \n0            106,79 kr/kg              71,43 kr/kg         GARANT   140g  \n1             77,72 kr/kg              65,55 kr/kg       ELDORADO   900g  \n2             53,27 kr/kg              33,33 kr/kg   SÖDERVIDINGE   750g  \n3             99,92 kr/kg              81,67 kr/kg        BREGOTT   600g  \n4             79,90 kr/kg              40,00 kr/kg            NaN    NaN  \n..                     ...                      ...           ...    ...  \n292           94,75 kr/kg                       NaN   PASTEJKÖKET   200g  \n293            30,00 kr/l                       NaN        GRUMME  750ml  \n294           67,99 kr/kg                       NaN         FELIX   720g  \n295           73,90 kr/kg                       NaN          FRIA   500g  \n296           59,36 kr/kg                       NaN          WASA   235g  \n\n[297 rows x 7 columns]",
      "text/html": "<div>\n<style scoped>\n    .dataframe tbody tr th:only-of-type {\n        vertical-align: middle;\n    }\n\n    .dataframe tbody tr th {\n        vertical-align: top;\n    }\n\n    .dataframe thead th {\n        text-align: right;\n    }\n</style>\n<table border=\"1\" class=\"dataframe\">\n  <thead>\n    <tr style=\"text-align: right;\">\n      <th></th>\n      <th>Name</th>\n      <th>Price</th>\n      <th>Original Price</th>\n      <th>Original compare price</th>\n      <th>Discounted compare price</th>\n      <th>Brand</th>\n      <th>Weight</th>\n    </tr>\n  </thead>\n  <tbody>\n    <tr>\n      <th>0</th>\n      <td>Bacon Rökt&amp;skivat</td>\n      <td>10.00</td>\n      <td>14.95</td>\n      <td>106,79 kr/kg</td>\n      <td>71,43 kr/kg</td>\n      <td>GARANT</td>\n      <td>140g</td>\n    </tr>\n    <tr>\n      <th>1</th>\n      <td>Kyckling Filé Fryst</td>\n      <td>59.00</td>\n      <td>69.95</td>\n      <td>77,72 kr/kg</td>\n      <td>65,55 kr/kg</td>\n      <td>ELDORADO</td>\n      <td>900g</td>\n    </tr>\n    <tr>\n      <th>2</th>\n      <td>Levain Vete</td>\n      <td>25.00</td>\n      <td>39.95</td>\n      <td>53,27 kr/kg</td>\n      <td>33,33 kr/kg</td>\n      <td>SÖDERVIDINGE</td>\n      <td>750g</td>\n    </tr>\n    <tr>\n      <th>3</th>\n      <td>Normalsaltat Smör &amp; Rapsolja 75%</td>\n      <td>49.00</td>\n      <td>59.95</td>\n      <td>99,92 kr/kg</td>\n      <td>81,67 kr/kg</td>\n      <td>BREGOTT</td>\n      <td>600g</td>\n    </tr>\n    <tr>\n      <th>4</th>\n      <td>Druvor Gröna Klass 1</td>\n      <td>20.00</td>\n      <td>39.95</td>\n      <td>79,90 kr/kg</td>\n      <td>40,00 kr/kg</td>\n      <td>NaN</td>\n      <td>NaN</td>\n    </tr>\n    <tr>\n      <th>...</th>\n      <td>...</td>\n      <td>...</td>\n      <td>...</td>\n      <td>...</td>\n      <td>...</td>\n      <td>...</td>\n      <td>...</td>\n    </tr>\n    <tr>\n      <th>292</th>\n      <td>Vegetarisk Bredbar Pastej av Ärtprotein</td>\n      <td>18.95</td>\n      <td>NaN</td>\n      <td>94,75 kr/kg</td>\n      <td>NaN</td>\n      <td>PASTEJKÖKET</td>\n      <td>200g</td>\n    </tr>\n    <tr>\n      <th>293</th>\n      <td>Citron Såpa Allrengöring</td>\n      <td>22.50</td>\n      <td>NaN</td>\n      <td>30,00 kr/l</td>\n      <td>NaN</td>\n      <td>GRUMME</td>\n      <td>750ml</td>\n    </tr>\n    <tr>\n      <th>294</th>\n      <td>Krögarpytt Klassisk Fryst</td>\n      <td>48.95</td>\n      <td>NaN</td>\n      <td>67,99 kr/kg</td>\n      <td>NaN</td>\n      <td>FELIX</td>\n      <td>720g</td>\n    </tr>\n    <tr>\n      <th>295</th>\n      <td>Fiber Formbröd Glutenfri Fryst</td>\n      <td>36.95</td>\n      <td>NaN</td>\n      <td>73,90 kr/kg</td>\n      <td>NaN</td>\n      <td>FRIA</td>\n      <td>500g</td>\n    </tr>\n    <tr>\n      <th>296</th>\n      <td>Falu Rågrut Original</td>\n      <td>13.95</td>\n      <td>NaN</td>\n      <td>59,36 kr/kg</td>\n      <td>NaN</td>\n      <td>WASA</td>\n      <td>235g</td>\n    </tr>\n  </tbody>\n</table>\n<p>297 rows × 7 columns</p>\n</div>"
     },
     "execution_count": 239,
     "metadata": {},
     "output_type": "execute_result"
    }
   ],
   "source": [
    "df"
   ],
   "metadata": {
    "collapsed": false,
    "ExecuteTime": {
     "end_time": "2023-05-09T12:41:19.876742Z",
     "start_time": "2023-05-09T12:41:19.866532Z"
    }
   }
  },
  {
   "cell_type": "code",
   "execution_count": 198,
   "outputs": [],
   "source": [
    "required_ingredients_df = pd.DataFrame(required_ingredients, required_ingredients_amount)"
   ],
   "metadata": {
    "collapsed": false,
    "ExecuteTime": {
     "end_time": "2023-05-09T08:09:52.364947Z",
     "start_time": "2023-05-09T08:09:52.359356Z"
    }
   }
  },
  {
   "cell_type": "code",
   "execution_count": 201,
   "outputs": [
    {
     "data": {
      "text/plain": "   index                       0\n0   8.00            tomato sauce\n1  16.00            tomato sauce\n2   1.50                   basil\n3   1.00                     egg\n4   1.00  extra virgin olive oil\n5  15.00         canned tomatoes\n6   4.00                 parsley\n7   2.00                  garlic\n8   0.25           ground pepper\n9   1.00                 sausage",
      "text/html": "<div>\n<style scoped>\n    .dataframe tbody tr th:only-of-type {\n        vertical-align: middle;\n    }\n\n    .dataframe tbody tr th {\n        vertical-align: top;\n    }\n\n    .dataframe thead th {\n        text-align: right;\n    }\n</style>\n<table border=\"1\" class=\"dataframe\">\n  <thead>\n    <tr style=\"text-align: right;\">\n      <th></th>\n      <th>index</th>\n      <th>0</th>\n    </tr>\n  </thead>\n  <tbody>\n    <tr>\n      <th>0</th>\n      <td>8.00</td>\n      <td>tomato sauce</td>\n    </tr>\n    <tr>\n      <th>1</th>\n      <td>16.00</td>\n      <td>tomato sauce</td>\n    </tr>\n    <tr>\n      <th>2</th>\n      <td>1.50</td>\n      <td>basil</td>\n    </tr>\n    <tr>\n      <th>3</th>\n      <td>1.00</td>\n      <td>egg</td>\n    </tr>\n    <tr>\n      <th>4</th>\n      <td>1.00</td>\n      <td>extra virgin olive oil</td>\n    </tr>\n    <tr>\n      <th>5</th>\n      <td>15.00</td>\n      <td>canned tomatoes</td>\n    </tr>\n    <tr>\n      <th>6</th>\n      <td>4.00</td>\n      <td>parsley</td>\n    </tr>\n    <tr>\n      <th>7</th>\n      <td>2.00</td>\n      <td>garlic</td>\n    </tr>\n    <tr>\n      <th>8</th>\n      <td>0.25</td>\n      <td>ground pepper</td>\n    </tr>\n    <tr>\n      <th>9</th>\n      <td>1.00</td>\n      <td>sausage</td>\n    </tr>\n  </tbody>\n</table>\n</div>"
     },
     "execution_count": 201,
     "metadata": {},
     "output_type": "execute_result"
    }
   ],
   "source": [
    "required_ingredients_df.reset_index()"
   ],
   "metadata": {
    "collapsed": false,
    "ExecuteTime": {
     "end_time": "2023-05-09T08:10:12.236206Z",
     "start_time": "2023-05-09T08:10:12.232179Z"
    }
   }
  },
  {
   "cell_type": "code",
   "execution_count": 203,
   "outputs": [
    {
     "data": {
      "text/plain": "                            0\n8.00             tomato sauce\n16.00            tomato sauce\n1.50                    basil\n1.00                      egg\n1.00   extra virgin olive oil\n15.00         canned tomatoes\n4.00                  parsley\n2.00                   garlic\n0.25            ground pepper\n1.00                  sausage",
      "text/html": "<div>\n<style scoped>\n    .dataframe tbody tr th:only-of-type {\n        vertical-align: middle;\n    }\n\n    .dataframe tbody tr th {\n        vertical-align: top;\n    }\n\n    .dataframe thead th {\n        text-align: right;\n    }\n</style>\n<table border=\"1\" class=\"dataframe\">\n  <thead>\n    <tr style=\"text-align: right;\">\n      <th></th>\n      <th>0</th>\n    </tr>\n  </thead>\n  <tbody>\n    <tr>\n      <th>8.00</th>\n      <td>tomato sauce</td>\n    </tr>\n    <tr>\n      <th>16.00</th>\n      <td>tomato sauce</td>\n    </tr>\n    <tr>\n      <th>1.50</th>\n      <td>basil</td>\n    </tr>\n    <tr>\n      <th>1.00</th>\n      <td>egg</td>\n    </tr>\n    <tr>\n      <th>1.00</th>\n      <td>extra virgin olive oil</td>\n    </tr>\n    <tr>\n      <th>15.00</th>\n      <td>canned tomatoes</td>\n    </tr>\n    <tr>\n      <th>4.00</th>\n      <td>parsley</td>\n    </tr>\n    <tr>\n      <th>2.00</th>\n      <td>garlic</td>\n    </tr>\n    <tr>\n      <th>0.25</th>\n      <td>ground pepper</td>\n    </tr>\n    <tr>\n      <th>1.00</th>\n      <td>sausage</td>\n    </tr>\n  </tbody>\n</table>\n</div>"
     },
     "execution_count": 203,
     "metadata": {},
     "output_type": "execute_result"
    }
   ],
   "source": [
    "required_ingredients_df"
   ],
   "metadata": {
    "collapsed": false,
    "ExecuteTime": {
     "end_time": "2023-05-09T08:11:01.598172Z",
     "start_time": "2023-05-09T08:11:01.594371Z"
    }
   }
  },
  {
   "cell_type": "code",
   "execution_count": 242,
   "outputs": [],
   "source": [
    "df['Name'] = translated_names"
   ],
   "metadata": {
    "collapsed": false,
    "ExecuteTime": {
     "end_time": "2023-05-09T12:41:47.079267Z",
     "start_time": "2023-05-09T12:41:47.073593Z"
    }
   }
  },
  {
   "cell_type": "code",
   "execution_count": 264,
   "outputs": [
    {
     "data": {
      "text/plain": "                                       Name  Price  Original Price   \n119  ricotta spinaci tortelloni fresh pasta  29.95             NaN  \\\n\n    Original compare price Discounted compare price   Brand Weight  \n119          119,80 kr/kg             110,00 kr/kg   GARANT   250g  ",
      "text/html": "<div>\n<style scoped>\n    .dataframe tbody tr th:only-of-type {\n        vertical-align: middle;\n    }\n\n    .dataframe tbody tr th {\n        vertical-align: top;\n    }\n\n    .dataframe thead th {\n        text-align: right;\n    }\n</style>\n<table border=\"1\" class=\"dataframe\">\n  <thead>\n    <tr style=\"text-align: right;\">\n      <th></th>\n      <th>Name</th>\n      <th>Price</th>\n      <th>Original Price</th>\n      <th>Original compare price</th>\n      <th>Discounted compare price</th>\n      <th>Brand</th>\n      <th>Weight</th>\n    </tr>\n  </thead>\n  <tbody>\n    <tr>\n      <th>119</th>\n      <td>ricotta spinaci tortelloni fresh pasta</td>\n      <td>29.95</td>\n      <td>NaN</td>\n      <td>119,80 kr/kg</td>\n      <td>110,00 kr/kg</td>\n      <td>GARANT</td>\n      <td>250g</td>\n    </tr>\n  </tbody>\n</table>\n</div>"
     },
     "execution_count": 264,
     "metadata": {},
     "output_type": "execute_result"
    }
   ],
   "source": [
    "df.loc[df.Name.str.contains('ricotta')]"
   ],
   "metadata": {
    "collapsed": false,
    "ExecuteTime": {
     "end_time": "2023-05-09T12:45:23.675525Z",
     "start_time": "2023-05-09T12:45:23.647559Z"
    }
   }
  },
  {
   "cell_type": "code",
   "execution_count": null,
   "outputs": [],
   "source": [
    "264, 156, 127, 254, 290, 103, 35, 119"
   ],
   "metadata": {
    "collapsed": false
   }
  },
  {
   "cell_type": "code",
   "execution_count": 272,
   "outputs": [],
   "source": [
    "df_ingredients = df.iloc[[264, 156, 127, 254, 290, 103, 35, 119]]"
   ],
   "metadata": {
    "collapsed": false,
    "ExecuteTime": {
     "end_time": "2023-05-09T13:17:53.616424Z",
     "start_time": "2023-05-09T13:17:53.609586Z"
    }
   }
  },
  {
   "cell_type": "code",
   "execution_count": 273,
   "outputs": [
    {
     "name": "stderr",
     "output_type": "stream",
     "text": [
      "/var/folders/dy/x6z2mb456s9dvq77dv75k9xr0000gn/T/ipykernel_60183/171260471.py:1: SettingWithCopyWarning: \n",
      "A value is trying to be set on a copy of a slice from a DataFrame\n",
      "\n",
      "See the caveats in the documentation: https://pandas.pydata.org/pandas-docs/stable/user_guide/indexing.html#returning-a-view-versus-a-copy\n",
      "  df_ingredients.loc['Total'] = df_ingredients.sum(numeric_only=True)\n"
     ]
    }
   ],
   "source": [
    "df_ingredients.loc['Total'] = df_ingredients.sum(numeric_only=True)"
   ],
   "metadata": {
    "collapsed": false,
    "ExecuteTime": {
     "end_time": "2023-05-09T13:18:04.244739Z",
     "start_time": "2023-05-09T13:18:04.236531Z"
    }
   }
  },
  {
   "cell_type": "code",
   "execution_count": 275,
   "outputs": [
    {
     "data": {
      "text/plain": "                                         Name   Price  Original Price   \n264                egg 15p free indoor medium   41.95             NaN  \\\n156                    crushed tomatoes herbs   12.50             NaN   \n127                      garlic salami sliced   18.95             NaN   \n254             whole grain lasagna 1-3 years   17.50             NaN   \n290                     beef mince 12% sweden   69.95             NaN   \n103                                mozzarella   14.95             NaN   \n35                onion yellow bundle class 1   10.00           13.95   \n119    ricotta spinaci tortelloni fresh pasta   29.95             NaN   \nTotal                                     NaN  215.75           13.95   \n\n      Original compare price Discounted compare price         Brand Weight  \n264              2,80 kr/st                       NaN        GARANT    15p  \n156             32,05 kr/kg              25,64 kr/kg         GARANT   390g  \n127            236,88 kr/kg             200,00 kr/kg         GARANT    80g  \n254             79,55 kr/kg              68,18 kr/kg         NESTLÉ  220 g  \n290            139,90 kr/kg                       NaN    GARANT EKO   500g  \n103            119,60 kr/kg             104,00 kr/kg   FRESCA D´ORO   125g  \n35                       NaN                      NaN           NaN    NaN  \n119            119,80 kr/kg             110,00 kr/kg         GARANT   250g  \nTotal                    NaN                      NaN           NaN    NaN  ",
      "text/html": "<div>\n<style scoped>\n    .dataframe tbody tr th:only-of-type {\n        vertical-align: middle;\n    }\n\n    .dataframe tbody tr th {\n        vertical-align: top;\n    }\n\n    .dataframe thead th {\n        text-align: right;\n    }\n</style>\n<table border=\"1\" class=\"dataframe\">\n  <thead>\n    <tr style=\"text-align: right;\">\n      <th></th>\n      <th>Name</th>\n      <th>Price</th>\n      <th>Original Price</th>\n      <th>Original compare price</th>\n      <th>Discounted compare price</th>\n      <th>Brand</th>\n      <th>Weight</th>\n    </tr>\n  </thead>\n  <tbody>\n    <tr>\n      <th>264</th>\n      <td>egg 15p free indoor medium</td>\n      <td>41.95</td>\n      <td>NaN</td>\n      <td>2,80 kr/st</td>\n      <td>NaN</td>\n      <td>GARANT</td>\n      <td>15p</td>\n    </tr>\n    <tr>\n      <th>156</th>\n      <td>crushed tomatoes herbs</td>\n      <td>12.50</td>\n      <td>NaN</td>\n      <td>32,05 kr/kg</td>\n      <td>25,64 kr/kg</td>\n      <td>GARANT</td>\n      <td>390g</td>\n    </tr>\n    <tr>\n      <th>127</th>\n      <td>garlic salami sliced</td>\n      <td>18.95</td>\n      <td>NaN</td>\n      <td>236,88 kr/kg</td>\n      <td>200,00 kr/kg</td>\n      <td>GARANT</td>\n      <td>80g</td>\n    </tr>\n    <tr>\n      <th>254</th>\n      <td>whole grain lasagna 1-3 years</td>\n      <td>17.50</td>\n      <td>NaN</td>\n      <td>79,55 kr/kg</td>\n      <td>68,18 kr/kg</td>\n      <td>NESTLÉ</td>\n      <td>220 g</td>\n    </tr>\n    <tr>\n      <th>290</th>\n      <td>beef mince 12% sweden</td>\n      <td>69.95</td>\n      <td>NaN</td>\n      <td>139,90 kr/kg</td>\n      <td>NaN</td>\n      <td>GARANT EKO</td>\n      <td>500g</td>\n    </tr>\n    <tr>\n      <th>103</th>\n      <td>mozzarella</td>\n      <td>14.95</td>\n      <td>NaN</td>\n      <td>119,60 kr/kg</td>\n      <td>104,00 kr/kg</td>\n      <td>FRESCA D´ORO</td>\n      <td>125g</td>\n    </tr>\n    <tr>\n      <th>35</th>\n      <td>onion yellow bundle class 1</td>\n      <td>10.00</td>\n      <td>13.95</td>\n      <td>NaN</td>\n      <td>NaN</td>\n      <td>NaN</td>\n      <td>NaN</td>\n    </tr>\n    <tr>\n      <th>119</th>\n      <td>ricotta spinaci tortelloni fresh pasta</td>\n      <td>29.95</td>\n      <td>NaN</td>\n      <td>119,80 kr/kg</td>\n      <td>110,00 kr/kg</td>\n      <td>GARANT</td>\n      <td>250g</td>\n    </tr>\n    <tr>\n      <th>Total</th>\n      <td>NaN</td>\n      <td>215.75</td>\n      <td>13.95</td>\n      <td>NaN</td>\n      <td>NaN</td>\n      <td>NaN</td>\n      <td>NaN</td>\n    </tr>\n  </tbody>\n</table>\n</div>"
     },
     "execution_count": 275,
     "metadata": {},
     "output_type": "execute_result"
    }
   ],
   "source": [
    "df_ingredients"
   ],
   "metadata": {
    "collapsed": false,
    "ExecuteTime": {
     "end_time": "2023-05-09T13:18:11.341986Z",
     "start_time": "2023-05-09T13:18:11.337925Z"
    }
   }
  },
  {
   "cell_type": "code",
   "execution_count": 276,
   "outputs": [
    {
     "data": {
      "text/plain": "                                          Name    Price  Original Price   \n0                          bacon smoked sliced    10.00           14.95  \\\n1                        chicken fillet frozen    59.00           69.95   \n2                                 levain wheat    25.00           39.95   \n3      normal salted butter & rapeseed oil 75%    49.00           59.95   \n4                         grapes green class 1    20.00           39.95   \n...                                        ...      ...             ...   \n293                    lemon soap all cleaning    22.50             NaN   \n294                    crows of classic frozen    48.95             NaN   \n295      fiber shape bread gluten -free frozen    36.95             NaN   \n296                       falu rågrut original    13.95             NaN   \nTotal                                      NaN  8282.35         2543.35   \n\n      Original compare price Discounted compare price         Brand Weight  \n0              106,79 kr/kg              71,43 kr/kg         GARANT   140g  \n1               77,72 kr/kg              65,55 kr/kg       ELDORADO   900g  \n2               53,27 kr/kg              33,33 kr/kg   SÖDERVIDINGE   750g  \n3               99,92 kr/kg              81,67 kr/kg        BREGOTT   600g  \n4               79,90 kr/kg              40,00 kr/kg            NaN    NaN  \n...                      ...                      ...           ...    ...  \n293              30,00 kr/l                       NaN        GRUMME  750ml  \n294             67,99 kr/kg                       NaN         FELIX   720g  \n295             73,90 kr/kg                       NaN          FRIA   500g  \n296             59,36 kr/kg                       NaN          WASA   235g  \nTotal                    NaN                      NaN           NaN    NaN  \n\n[298 rows x 7 columns]",
      "text/html": "<div>\n<style scoped>\n    .dataframe tbody tr th:only-of-type {\n        vertical-align: middle;\n    }\n\n    .dataframe tbody tr th {\n        vertical-align: top;\n    }\n\n    .dataframe thead th {\n        text-align: right;\n    }\n</style>\n<table border=\"1\" class=\"dataframe\">\n  <thead>\n    <tr style=\"text-align: right;\">\n      <th></th>\n      <th>Name</th>\n      <th>Price</th>\n      <th>Original Price</th>\n      <th>Original compare price</th>\n      <th>Discounted compare price</th>\n      <th>Brand</th>\n      <th>Weight</th>\n    </tr>\n  </thead>\n  <tbody>\n    <tr>\n      <th>0</th>\n      <td>bacon smoked sliced</td>\n      <td>10.00</td>\n      <td>14.95</td>\n      <td>106,79 kr/kg</td>\n      <td>71,43 kr/kg</td>\n      <td>GARANT</td>\n      <td>140g</td>\n    </tr>\n    <tr>\n      <th>1</th>\n      <td>chicken fillet frozen</td>\n      <td>59.00</td>\n      <td>69.95</td>\n      <td>77,72 kr/kg</td>\n      <td>65,55 kr/kg</td>\n      <td>ELDORADO</td>\n      <td>900g</td>\n    </tr>\n    <tr>\n      <th>2</th>\n      <td>levain wheat</td>\n      <td>25.00</td>\n      <td>39.95</td>\n      <td>53,27 kr/kg</td>\n      <td>33,33 kr/kg</td>\n      <td>SÖDERVIDINGE</td>\n      <td>750g</td>\n    </tr>\n    <tr>\n      <th>3</th>\n      <td>normal salted butter &amp; rapeseed oil 75%</td>\n      <td>49.00</td>\n      <td>59.95</td>\n      <td>99,92 kr/kg</td>\n      <td>81,67 kr/kg</td>\n      <td>BREGOTT</td>\n      <td>600g</td>\n    </tr>\n    <tr>\n      <th>4</th>\n      <td>grapes green class 1</td>\n      <td>20.00</td>\n      <td>39.95</td>\n      <td>79,90 kr/kg</td>\n      <td>40,00 kr/kg</td>\n      <td>NaN</td>\n      <td>NaN</td>\n    </tr>\n    <tr>\n      <th>...</th>\n      <td>...</td>\n      <td>...</td>\n      <td>...</td>\n      <td>...</td>\n      <td>...</td>\n      <td>...</td>\n      <td>...</td>\n    </tr>\n    <tr>\n      <th>293</th>\n      <td>lemon soap all cleaning</td>\n      <td>22.50</td>\n      <td>NaN</td>\n      <td>30,00 kr/l</td>\n      <td>NaN</td>\n      <td>GRUMME</td>\n      <td>750ml</td>\n    </tr>\n    <tr>\n      <th>294</th>\n      <td>crows of classic frozen</td>\n      <td>48.95</td>\n      <td>NaN</td>\n      <td>67,99 kr/kg</td>\n      <td>NaN</td>\n      <td>FELIX</td>\n      <td>720g</td>\n    </tr>\n    <tr>\n      <th>295</th>\n      <td>fiber shape bread gluten -free frozen</td>\n      <td>36.95</td>\n      <td>NaN</td>\n      <td>73,90 kr/kg</td>\n      <td>NaN</td>\n      <td>FRIA</td>\n      <td>500g</td>\n    </tr>\n    <tr>\n      <th>296</th>\n      <td>falu rågrut original</td>\n      <td>13.95</td>\n      <td>NaN</td>\n      <td>59,36 kr/kg</td>\n      <td>NaN</td>\n      <td>WASA</td>\n      <td>235g</td>\n    </tr>\n    <tr>\n      <th>Total</th>\n      <td>NaN</td>\n      <td>8282.35</td>\n      <td>2543.35</td>\n      <td>NaN</td>\n      <td>NaN</td>\n      <td>NaN</td>\n      <td>NaN</td>\n    </tr>\n  </tbody>\n</table>\n<p>298 rows × 7 columns</p>\n</div>"
     },
     "execution_count": 276,
     "metadata": {},
     "output_type": "execute_result"
    }
   ],
   "source": [
    "df"
   ],
   "metadata": {
    "collapsed": false,
    "ExecuteTime": {
     "end_time": "2023-05-09T13:31:50.602576Z",
     "start_time": "2023-05-09T13:31:50.599523Z"
    }
   }
  },
  {
   "cell_type": "code",
   "execution_count": null,
   "outputs": [],
   "source": [],
   "metadata": {
    "collapsed": false
   }
  }
 ],
 "metadata": {
  "kernelspec": {
   "display_name": "Python 3",
   "language": "python",
   "name": "python3"
  },
  "language_info": {
   "codemirror_mode": {
    "name": "ipython",
    "version": 2
   },
   "file_extension": ".py",
   "mimetype": "text/x-python",
   "name": "python",
   "nbconvert_exporter": "python",
   "pygments_lexer": "ipython2",
   "version": "2.7.6"
  }
 },
 "nbformat": 4,
 "nbformat_minor": 0
}
